{
 "cells": [
  {
   "cell_type": "markdown",
   "id": "27feafff",
   "metadata": {},
   "source": [
    "# Premier League Club Analysis for Investment (Exploratory Data Analysis)\n",
    "**Domain: Sports**\n",
    "\n",
    "**Context:**\n",
    "    \n",
    "A renowned investment firm typically invests in top-tier sports teams with significant potential. The dataset in their possession contains crucial information about all the clubs that have participated in the Premier League, and it is assumed to include data for all the clubs. The dataset includes information on the number of goals scored by each team, the frequency of their finishes in the top two positions, and other relevant details.\n",
    "\n",
    "**Data:**\n",
    "Premier League Final Data.csv- : The provided dataset encompasses comprehensive information on all football clubs that have participated in the English Premier League tournaments.\n",
    "\n",
    "**Data Dictionary:**\n",
    "\n",
    "* Club: Name of the football club\n",
    "* Matches: Number of matches played by the club in the Premier League\n",
    "* Wins: Number of matches won by the club in the Premier League\n",
    "* Loss: Number of matches lost by the club in the Premier League\n",
    "* Draws: Number of matches drawn by the club in the Premier League\n",
    "* Clean Sheets: Number of matches in which the club prevented the opposing side from scoring\n",
    "* Team Launch: The Year in which the club was founded\n",
    "* Winners: Number of times the club has won the Premier League\n",
    "* Runners-up: Number of times the club has finished as runner-up in the Premier League\n",
    "* lastplayed_pl: The Year in which the team last played in the Premier League\n",
    "\n",
    "**Project Objective**\n",
    "\n",
    "The management of the firm aims to invest in one of the top-performing club in the English Premier League. To facilitate their decision-making process, a comprehensive report on the performance of various clubs can be created. However, some of the more established clubs have already been acquired by competitors. Consequently, the firm wishes to identify clubs they can approach and potentially invest in, ensuring a successful and profitable deal.\n",
    "\n",
    "*Note*\n",
    "\n",
    "*- Unauthorised use or distribution of this project is prohibited @dataanalystduo*\n",
    "\n",
    "*- Dataset has been acquired from  multiple sources on the internet. Credits for the dataset go to the original creator of the data*\n",
    "\n",
    "*- This data is updated as of March'23*\n"
   ]
  },
  {
   "cell_type": "code",
   "execution_count": 1,
   "id": "9259ca32",
   "metadata": {},
   "outputs": [],
   "source": [
    "import numpy as np\n",
    "import pandas as pd"
   ]
  },
  {
   "cell_type": "code",
   "execution_count": 5,
   "id": "985a7957",
   "metadata": {},
   "outputs": [],
   "source": [
    "# loading the dataset in to python\n",
    "data=pd.read_csv(r\"C:\\Users\\Sagana\\Desktop\\TECH Malar\\DataToDestiny\\PROJECTS\\EDA project\\premier_league_final_data.csv\")"
   ]
  },
  {
   "cell_type": "markdown",
   "id": "8afd4344",
   "metadata": {},
   "source": [
    "### Data Exploration and Cleaning"
   ]
  },
  {
   "cell_type": "code",
   "execution_count": 6,
   "id": "c422e8e3",
   "metadata": {},
   "outputs": [
    {
     "data": {
      "text/html": [
       "<div>\n",
       "<style scoped>\n",
       "    .dataframe tbody tr th:only-of-type {\n",
       "        vertical-align: middle;\n",
       "    }\n",
       "\n",
       "    .dataframe tbody tr th {\n",
       "        vertical-align: top;\n",
       "    }\n",
       "\n",
       "    .dataframe thead th {\n",
       "        text-align: right;\n",
       "    }\n",
       "</style>\n",
       "<table border=\"1\" class=\"dataframe\">\n",
       "  <thead>\n",
       "    <tr style=\"text-align: right;\">\n",
       "      <th></th>\n",
       "      <th>Club</th>\n",
       "      <th>Matches Played</th>\n",
       "      <th>Win</th>\n",
       "      <th>Loss</th>\n",
       "      <th>Drawn</th>\n",
       "      <th>Goals</th>\n",
       "      <th>Clean Sheets</th>\n",
       "      <th>TeamLaunch</th>\n",
       "      <th>Winners</th>\n",
       "      <th>Runners-up</th>\n",
       "      <th>lastplayed_pl</th>\n",
       "    </tr>\n",
       "  </thead>\n",
       "  <tbody>\n",
       "    <tr>\n",
       "      <th>0</th>\n",
       "      <td>1Arsenal</td>\n",
       "      <td>1182</td>\n",
       "      <td>642</td>\n",
       "      <td>252</td>\n",
       "      <td>288</td>\n",
       "      <td>2089</td>\n",
       "      <td>448</td>\n",
       "      <td>1886</td>\n",
       "      <td>3.0</td>\n",
       "      <td>6</td>\n",
       "      <td>Apr-23</td>\n",
       "    </tr>\n",
       "    <tr>\n",
       "      <th>1</th>\n",
       "      <td>2Aston Villa</td>\n",
       "      <td>1062</td>\n",
       "      <td>368</td>\n",
       "      <td>399</td>\n",
       "      <td>295</td>\n",
       "      <td>1306</td>\n",
       "      <td>311</td>\n",
       "      <td>1874</td>\n",
       "      <td>0.0</td>\n",
       "      <td>1</td>\n",
       "      <td>Apr-23</td>\n",
       "    </tr>\n",
       "    <tr>\n",
       "      <th>2</th>\n",
       "      <td>3Birmingham City</td>\n",
       "      <td>266</td>\n",
       "      <td>73</td>\n",
       "      <td>111</td>\n",
       "      <td>82</td>\n",
       "      <td>273</td>\n",
       "      <td>66</td>\n",
       "      <td>1875</td>\n",
       "      <td>0.0</td>\n",
       "      <td>NaN</td>\n",
       "      <td>May-11</td>\n",
       "    </tr>\n",
       "    <tr>\n",
       "      <th>3</th>\n",
       "      <td>4Blackburn Rovers</td>\n",
       "      <td>696</td>\n",
       "      <td>262</td>\n",
       "      <td>250</td>\n",
       "      <td>184</td>\n",
       "      <td>927</td>\n",
       "      <td>210</td>\n",
       "      <td>1875</td>\n",
       "      <td>1.0</td>\n",
       "      <td>1</td>\n",
       "      <td>May-12</td>\n",
       "    </tr>\n",
       "    <tr>\n",
       "      <th>4</th>\n",
       "      <td>5Bolton Wanderers</td>\n",
       "      <td>494</td>\n",
       "      <td>149</td>\n",
       "      <td>217</td>\n",
       "      <td>128</td>\n",
       "      <td>575</td>\n",
       "      <td>108</td>\n",
       "      <td>1874</td>\n",
       "      <td>0.0</td>\n",
       "      <td>0</td>\n",
       "      <td>May-12</td>\n",
       "    </tr>\n",
       "  </tbody>\n",
       "</table>\n",
       "</div>"
      ],
      "text/plain": [
       "                Club  Matches Played  Win  Loss  Drawn  Goals  Clean Sheets  \\\n",
       "0           1Arsenal            1182  642   252    288   2089           448   \n",
       "1       2Aston Villa            1062  368   399    295   1306           311   \n",
       "2   3Birmingham City             266   73   111     82    273            66   \n",
       "3  4Blackburn Rovers             696  262   250    184    927           210   \n",
       "4  5Bolton Wanderers             494  149   217    128    575           108   \n",
       "\n",
       "  TeamLaunch  Winners Runners-up lastplayed_pl  \n",
       "0       1886      3.0          6        Apr-23  \n",
       "1       1874      0.0          1        Apr-23  \n",
       "2       1875      0.0        NaN        May-11  \n",
       "3       1875      1.0          1        May-12  \n",
       "4       1874      0.0          0        May-12  "
      ]
     },
     "execution_count": 6,
     "metadata": {},
     "output_type": "execute_result"
    }
   ],
   "source": [
    "data.head()"
   ]
  },
  {
   "cell_type": "code",
   "execution_count": 7,
   "id": "b06d741c",
   "metadata": {},
   "outputs": [
    {
     "data": {
      "text/html": [
       "<div>\n",
       "<style scoped>\n",
       "    .dataframe tbody tr th:only-of-type {\n",
       "        vertical-align: middle;\n",
       "    }\n",
       "\n",
       "    .dataframe tbody tr th {\n",
       "        vertical-align: top;\n",
       "    }\n",
       "\n",
       "    .dataframe thead th {\n",
       "        text-align: right;\n",
       "    }\n",
       "</style>\n",
       "<table border=\"1\" class=\"dataframe\">\n",
       "  <thead>\n",
       "    <tr style=\"text-align: right;\">\n",
       "      <th></th>\n",
       "      <th>Club</th>\n",
       "      <th>Matches Played</th>\n",
       "      <th>Win</th>\n",
       "      <th>Loss</th>\n",
       "      <th>Drawn</th>\n",
       "      <th>Goals</th>\n",
       "      <th>Clean Sheets</th>\n",
       "      <th>TeamLaunch</th>\n",
       "      <th>Winners</th>\n",
       "      <th>Runners-up</th>\n",
       "      <th>lastplayed_pl</th>\n",
       "    </tr>\n",
       "  </thead>\n",
       "  <tbody>\n",
       "    <tr>\n",
       "      <th>35</th>\n",
       "      <td>36West Bromwich Albion</td>\n",
       "      <td>494</td>\n",
       "      <td>117</td>\n",
       "      <td>238</td>\n",
       "      <td>139</td>\n",
       "      <td>510</td>\n",
       "      <td>107</td>\n",
       "      <td>1878</td>\n",
       "      <td>NaN</td>\n",
       "      <td>0</td>\n",
       "      <td>Apr-18</td>\n",
       "    </tr>\n",
       "    <tr>\n",
       "      <th>36</th>\n",
       "      <td>37West Ham United</td>\n",
       "      <td>1025</td>\n",
       "      <td>343</td>\n",
       "      <td>423</td>\n",
       "      <td>259</td>\n",
       "      <td>1262</td>\n",
       "      <td>266</td>\n",
       "      <td>1895</td>\n",
       "      <td>NaN</td>\n",
       "      <td>0</td>\n",
       "      <td>Apr-23</td>\n",
       "    </tr>\n",
       "    <tr>\n",
       "      <th>37</th>\n",
       "      <td>38Wigan Athletic</td>\n",
       "      <td>304</td>\n",
       "      <td>85</td>\n",
       "      <td>143</td>\n",
       "      <td>76</td>\n",
       "      <td>316</td>\n",
       "      <td>73</td>\n",
       "      <td>1932</td>\n",
       "      <td>NaN</td>\n",
       "      <td>0</td>\n",
       "      <td>Apr-13</td>\n",
       "    </tr>\n",
       "    <tr>\n",
       "      <th>38</th>\n",
       "      <td>39Wolverhampton Wanderers</td>\n",
       "      <td>334</td>\n",
       "      <td>98</td>\n",
       "      <td>151</td>\n",
       "      <td>85</td>\n",
       "      <td>353</td>\n",
       "      <td>75</td>\n",
       "      <td>1877</td>\n",
       "      <td>0.0</td>\n",
       "      <td>0</td>\n",
       "      <td>Apr-23</td>\n",
       "    </tr>\n",
       "    <tr>\n",
       "      <th>39</th>\n",
       "      <td>40Portsmouth</td>\n",
       "      <td>266</td>\n",
       "      <td>79</td>\n",
       "      <td>122</td>\n",
       "      <td>65</td>\n",
       "      <td>292</td>\n",
       "      <td>61</td>\n",
       "      <td>April 1898</td>\n",
       "      <td>NaN</td>\n",
       "      <td>NaN</td>\n",
       "      <td>Apr-10</td>\n",
       "    </tr>\n",
       "  </tbody>\n",
       "</table>\n",
       "</div>"
      ],
      "text/plain": [
       "                         Club  Matches Played  Win  Loss  Drawn  Goals  \\\n",
       "35     36West Bromwich Albion             494  117   238    139    510   \n",
       "36          37West Ham United            1025  343   423    259   1262   \n",
       "37           38Wigan Athletic             304   85   143     76    316   \n",
       "38  39Wolverhampton Wanderers             334   98   151     85    353   \n",
       "39               40Portsmouth             266   79   122     65    292   \n",
       "\n",
       "    Clean Sheets  TeamLaunch  Winners Runners-up lastplayed_pl  \n",
       "35           107        1878      NaN          0        Apr-18  \n",
       "36           266        1895      NaN          0        Apr-23  \n",
       "37            73        1932      NaN          0        Apr-13  \n",
       "38            75        1877      0.0          0        Apr-23  \n",
       "39            61  April 1898      NaN        NaN        Apr-10  "
      ]
     },
     "execution_count": 7,
     "metadata": {},
     "output_type": "execute_result"
    }
   ],
   "source": [
    "data.tail()"
   ]
  },
  {
   "cell_type": "code",
   "execution_count": 8,
   "id": "d710224d",
   "metadata": {},
   "outputs": [
    {
     "data": {
      "text/plain": [
       "(40, 11)"
      ]
     },
     "execution_count": 8,
     "metadata": {},
     "output_type": "execute_result"
    }
   ],
   "source": [
    "data.shape"
   ]
  },
  {
   "cell_type": "markdown",
   "id": "4b5b93f3",
   "metadata": {},
   "source": [
    "The dataset contains 11 columns giving information about 40 different football clubs and their performance over the years in the English Premier League. By observing some columns of the dataset it is noted that there exists the following inconsistencies:\n",
    "\n",
    "1) column 'club' has numbers attached before the club names.\n",
    "2) Values in 'Team launch' column is not consistent with 2 differnet format.  \n",
    "3) 'winners' and 'runners-up' columns contain missing values.\n",
    "4) Information about month in which the team last played in the PL given along with year in the 'lastplayed_pl' column seems unnecessary, whereas the year in which the team last appeared in the PL is important for anlaysis. Data need to be converted in to year alone format in this column."
   ]
  },
  {
   "cell_type": "code",
   "execution_count": 9,
   "id": "efb6bfd5",
   "metadata": {},
   "outputs": [
    {
     "name": "stdout",
     "output_type": "stream",
     "text": [
      "<class 'pandas.core.frame.DataFrame'>\n",
      "RangeIndex: 40 entries, 0 to 39\n",
      "Data columns (total 11 columns):\n",
      " #   Column          Non-Null Count  Dtype  \n",
      "---  ------          --------------  -----  \n",
      " 0   Club            40 non-null     object \n",
      " 1   Matches Played  40 non-null     int64  \n",
      " 2   Win             40 non-null     int64  \n",
      " 3   Loss            40 non-null     int64  \n",
      " 4   Drawn           40 non-null     int64  \n",
      " 5   Goals           40 non-null     int64  \n",
      " 6   Clean Sheets    40 non-null     int64  \n",
      " 7   TeamLaunch      40 non-null     object \n",
      " 8   Winners         25 non-null     float64\n",
      " 9   Runners-up      22 non-null     object \n",
      " 10  lastplayed_pl   40 non-null     object \n",
      "dtypes: float64(1), int64(6), object(4)\n",
      "memory usage: 3.6+ KB\n"
     ]
    }
   ],
   "source": [
    "data.info()"
   ]
  },
  {
   "cell_type": "markdown",
   "id": "f5c268b5",
   "metadata": {},
   "source": [
    "We also notice that the data type for the \"Runners-up\" column is non-numeric (i.e., object type). To perform any numerical analysis on this column, we will need to convert it to a numeric data type."
   ]
  },
  {
   "cell_type": "code",
   "execution_count": 10,
   "id": "a15cc776",
   "metadata": {},
   "outputs": [
    {
     "data": {
      "text/plain": [
       "Winners\n",
       "0.0     18\n",
       "1.0      3\n",
       "3.0      1\n",
       "5.0      1\n",
       "6.0      1\n",
       "13.0     1\n",
       "Name: count, dtype: int64"
      ]
     },
     "execution_count": 10,
     "metadata": {},
     "output_type": "execute_result"
    }
   ],
   "source": [
    "data['Winners'].value_counts()"
   ]
  },
  {
   "cell_type": "markdown",
   "id": "7150ef57",
   "metadata": {},
   "source": [
    "Premier league happens every year since 1992 and the dataset contains information till 2022. 'Winners' column exhibits the number of times that particular club has won the premier league over the past 30 years. It is given that 3 clubs won once, one club won thrice, another won five times, one won six times, and one club emerged victorious a remarkable 13 times. Total number of times different teams have won is 30 i.e 30 winners in 30 Premier League. This means the missing values in this column refer to nothing, Therefore all these null values can be replaced with zeroes."
   ]
  },
  {
   "cell_type": "code",
   "execution_count": 11,
   "id": "a7f5056e",
   "metadata": {},
   "outputs": [],
   "source": [
    "#Copy of the dataset is being used for data cleaning and analysis\n",
    "\n",
    "data_new=data.copy()"
   ]
  },
  {
   "cell_type": "code",
   "execution_count": 12,
   "id": "63ce5d08",
   "metadata": {},
   "outputs": [],
   "source": [
    "#replacing null values with zeroes in winners column\n",
    "data_new['Winners'].fillna(0,inplace=True)"
   ]
  },
  {
   "cell_type": "code",
   "execution_count": 13,
   "id": "0bba3e23",
   "metadata": {},
   "outputs": [
    {
     "data": {
      "text/plain": [
       "False"
      ]
     },
     "execution_count": 13,
     "metadata": {},
     "output_type": "execute_result"
    }
   ],
   "source": [
    "data_new['Winners'].isnull().any()"
   ]
  },
  {
   "cell_type": "code",
   "execution_count": 14,
   "id": "d189684f",
   "metadata": {},
   "outputs": [
    {
     "data": {
      "text/plain": [
       "35    0.0\n",
       "36    0.0\n",
       "37    0.0\n",
       "38    0.0\n",
       "39    0.0\n",
       "Name: Winners, dtype: float64"
      ]
     },
     "execution_count": 14,
     "metadata": {},
     "output_type": "execute_result"
    }
   ],
   "source": [
    "data_new['Winners'].tail()"
   ]
  },
  {
   "cell_type": "code",
   "execution_count": 15,
   "id": "b2248eb0",
   "metadata": {},
   "outputs": [
    {
     "data": {
      "text/plain": [
       "Runners-up\n",
       "0    10\n",
       "1     3\n",
       "-     3\n",
       "6     1\n",
       "4     1\n",
       "5     1\n",
       "3     1\n",
       "7     1\n",
       "2     1\n",
       "Name: count, dtype: int64"
      ]
     },
     "execution_count": 15,
     "metadata": {},
     "output_type": "execute_result"
    }
   ],
   "source": [
    "data_new['Runners-up'].value_counts()"
   ]
  },
  {
   "cell_type": "markdown",
   "id": "3f8450e5",
   "metadata": {},
   "source": [
    "Similar to the 'winners' column, the 'Runners-up' column shows the number of times that club has been a runner-up in the premier league over the past 30 years. Three clubs became runners-up once and another has been a runner-up 7 times, such that 30 runners-up in the 30 Premier League conducted. So null values and an iphen can be replaced with zeroes in this column\n",
    "Data type of this column is also need to be changed into int type from object type."
   ]
  },
  {
   "cell_type": "code",
   "execution_count": 18,
   "id": "daf93912",
   "metadata": {},
   "outputs": [],
   "source": [
    "#replacing null values and '-' in the runners-up column with zeroes\n",
    "\n",
    "data_new['Runners-up'].fillna(0,inplace=True)\n",
    "data_new['Runners-up'].replace('-',0,inplace=True)"
   ]
  },
  {
   "cell_type": "code",
   "execution_count": 19,
   "id": "a04765c4",
   "metadata": {},
   "outputs": [
    {
     "data": {
      "text/plain": [
       "Runners-up\n",
       "0    21\n",
       "0    10\n",
       "1     3\n",
       "6     1\n",
       "4     1\n",
       "5     1\n",
       "3     1\n",
       "7     1\n",
       "2     1\n",
       "Name: count, dtype: int64"
      ]
     },
     "execution_count": 19,
     "metadata": {},
     "output_type": "execute_result"
    }
   ],
   "source": [
    "data_new['Runners-up'].value_counts()"
   ]
  },
  {
   "cell_type": "code",
   "execution_count": 20,
   "id": "4a4adeab",
   "metadata": {},
   "outputs": [
    {
     "data": {
      "text/plain": [
       "False"
      ]
     },
     "execution_count": 20,
     "metadata": {},
     "output_type": "execute_result"
    }
   ],
   "source": [
    "data_new['Runners-up'].isnull().any()"
   ]
  },
  {
   "cell_type": "code",
   "execution_count": 22,
   "id": "40b6dda3",
   "metadata": {},
   "outputs": [],
   "source": [
    "#converting the \"Runners-up\" column from an \"Object\" data type to an \"Int64\" data type.\n",
    "\n",
    "data_new['Runners-up']=pd.to_numeric(data_new['Runners-up'])\n",
    "data_new['Runners-up']=data_new['Runners-up'].astype('int64')"
   ]
  },
  {
   "cell_type": "code",
   "execution_count": 23,
   "id": "7a75c1c9",
   "metadata": {},
   "outputs": [
    {
     "name": "stdout",
     "output_type": "stream",
     "text": [
      "<class 'pandas.core.frame.DataFrame'>\n",
      "RangeIndex: 40 entries, 0 to 39\n",
      "Data columns (total 11 columns):\n",
      " #   Column          Non-Null Count  Dtype  \n",
      "---  ------          --------------  -----  \n",
      " 0   Club            40 non-null     object \n",
      " 1   Matches Played  40 non-null     int64  \n",
      " 2   Win             40 non-null     int64  \n",
      " 3   Loss            40 non-null     int64  \n",
      " 4   Drawn           40 non-null     int64  \n",
      " 5   Goals           40 non-null     int64  \n",
      " 6   Clean Sheets    40 non-null     int64  \n",
      " 7   TeamLaunch      40 non-null     object \n",
      " 8   Winners         40 non-null     float64\n",
      " 9   Runners-up      40 non-null     int64  \n",
      " 10  lastplayed_pl   40 non-null     object \n",
      "dtypes: float64(1), int64(7), object(3)\n",
      "memory usage: 3.6+ KB\n"
     ]
    }
   ],
   "source": [
    "data_new.info()"
   ]
  },
  {
   "cell_type": "code",
   "execution_count": 24,
   "id": "4d1db766",
   "metadata": {},
   "outputs": [],
   "source": [
    "# removing numerals from club names\n",
    "data_new['Club']=data_new['Club'].str.replace('\\d+','')"
   ]
  },
  {
   "cell_type": "code",
   "execution_count": 25,
   "id": "fc7ca816",
   "metadata": {},
   "outputs": [
    {
     "data": {
      "text/plain": [
       "0             1Arsenal\n",
       "1         2Aston Villa\n",
       "2     3Birmingham City\n",
       "3    4Blackburn Rovers\n",
       "4    5Bolton Wanderers\n",
       "Name: Club, dtype: object"
      ]
     },
     "execution_count": 25,
     "metadata": {},
     "output_type": "execute_result"
    }
   ],
   "source": [
    "data_new['Club'].head()"
   ]
  },
  {
   "cell_type": "code",
   "execution_count": 26,
   "id": "1fa0f03b",
   "metadata": {},
   "outputs": [],
   "source": [
    "from string import digits"
   ]
  },
  {
   "cell_type": "code",
   "execution_count": 27,
   "id": "2bf2a528",
   "metadata": {},
   "outputs": [],
   "source": [
    "data_new['Club']=data_new['Club'].str.lstrip(digits)"
   ]
  },
  {
   "cell_type": "code",
   "execution_count": 28,
   "id": "818c52e8",
   "metadata": {},
   "outputs": [
    {
     "data": {
      "text/plain": [
       "0             Arsenal\n",
       "1         Aston Villa\n",
       "2     Birmingham City\n",
       "3    Blackburn Rovers\n",
       "4    Bolton Wanderers\n",
       "Name: Club, dtype: object"
      ]
     },
     "execution_count": 28,
     "metadata": {},
     "output_type": "execute_result"
    }
   ],
   "source": [
    "data_new['Club'].head()"
   ]
  },
  {
   "cell_type": "code",
   "execution_count": 29,
   "id": "86bd8cf5",
   "metadata": {},
   "outputs": [
    {
     "data": {
      "text/plain": [
       "35       West Bromwich Albion\n",
       "36            West Ham United\n",
       "37             Wigan Athletic\n",
       "38    Wolverhampton Wanderers\n",
       "39                 Portsmouth\n",
       "Name: Club, dtype: object"
      ]
     },
     "execution_count": 29,
     "metadata": {},
     "output_type": "execute_result"
    }
   ],
   "source": [
    "data_new['Club'].tail()"
   ]
  },
  {
   "cell_type": "markdown",
   "id": "75026c3a",
   "metadata": {},
   "source": [
    "Using lstrip() function numerals attached to the names of the clubs are removed."
   ]
  },
  {
   "cell_type": "code",
   "execution_count": 30,
   "id": "516e19ed",
   "metadata": {},
   "outputs": [
    {
     "data": {
      "text/plain": [
       "TeamLaunch\n",
       "1878           3\n",
       "1886           2\n",
       "1905           2\n",
       "1874           2\n",
       "1892           2\n",
       "1879           2\n",
       "1884           2\n",
       "1882           2\n",
       "1875           2\n",
       "1895           1\n",
       "1881           1\n",
       "1904           1\n",
       "1932           1\n",
       "1912           1\n",
       "1863           1\n",
       "1877           1\n",
       "1885           1\n",
       "1867           1\n",
       "1889           1\n",
       "1894           1\n",
       "1865           1\n",
       "1902           1\n",
       "1876           1\n",
       "1919           1\n",
       "16 Oct 1878    1\n",
       "1861           1\n",
       "Aug 1883       1\n",
       "1901           1\n",
       "1899           1\n",
       "April 1898     1\n",
       "Name: count, dtype: int64"
      ]
     },
     "execution_count": 30,
     "metadata": {},
     "output_type": "execute_result"
    }
   ],
   "source": [
    "data_new['TeamLaunch'].value_counts()"
   ]
  },
  {
   "cell_type": "code",
   "execution_count": 31,
   "id": "03e52f24",
   "metadata": {},
   "outputs": [
    {
     "data": {
      "text/plain": [
       "TeamLaunch\n",
       "1878-01-01    3\n",
       "1886-01-01    2\n",
       "1905-01-01    2\n",
       "1874-01-01    2\n",
       "1892-01-01    2\n",
       "1879-01-01    2\n",
       "1884-01-01    2\n",
       "1882-01-01    2\n",
       "1875-01-01    2\n",
       "1881-01-01    1\n",
       "1889-01-01    1\n",
       "1895-01-01    1\n",
       "1912-01-01    1\n",
       "1932-01-01    1\n",
       "1863-01-01    1\n",
       "1885-01-01    1\n",
       "1867-01-01    1\n",
       "1894-01-01    1\n",
       "1904-01-01    1\n",
       "1865-01-01    1\n",
       "1902-01-01    1\n",
       "1876-01-01    1\n",
       "1919-01-01    1\n",
       "1861-01-01    1\n",
       "1901-01-01    1\n",
       "1899-01-01    1\n",
       "1877-01-01    1\n",
       "Name: count, dtype: int64"
      ]
     },
     "execution_count": 31,
     "metadata": {},
     "output_type": "execute_result"
    }
   ],
   "source": [
    "#converting values into date-time format\n",
    "data_new['TeamLaunch']=pd.to_datetime(data_new['TeamLaunch'], errors='coerce')\n",
    "data_new['TeamLaunch'].value_counts()"
   ]
  },
  {
   "cell_type": "code",
   "execution_count": 32,
   "id": "93a0ce28",
   "metadata": {},
   "outputs": [
    {
     "data": {
      "text/plain": [
       "TeamLaunch\n",
       "1878    3\n",
       "1886    2\n",
       "1905    2\n",
       "1874    2\n",
       "1892    2\n",
       "1879    2\n",
       "1884    2\n",
       "1882    2\n",
       "1875    2\n",
       "1881    1\n",
       "1889    1\n",
       "1895    1\n",
       "1912    1\n",
       "1932    1\n",
       "1863    1\n",
       "1885    1\n",
       "1867    1\n",
       "1894    1\n",
       "1904    1\n",
       "1865    1\n",
       "1902    1\n",
       "1876    1\n",
       "1919    1\n",
       "1861    1\n",
       "1901    1\n",
       "1899    1\n",
       "1877    1\n",
       "Name: count, dtype: int64"
      ]
     },
     "execution_count": 32,
     "metadata": {},
     "output_type": "execute_result"
    }
   ],
   "source": [
    "#converting values in to'YYYY' format\n",
    "data_new['TeamLaunch']=data_new['TeamLaunch'].dt.strftime('%Y')\n",
    "data_new['TeamLaunch'].value_counts()"
   ]
  },
  {
   "cell_type": "markdown",
   "id": "9491ac8c",
   "metadata": {},
   "source": [
    "'Team launch' column values are converted into a single standard format with only years mentioned."
   ]
  },
  {
   "cell_type": "code",
   "execution_count": 33,
   "id": "66a4abdc",
   "metadata": {},
   "outputs": [],
   "source": [
    "# extracting only the year in lastplayed_pl column\n",
    "\n",
    "data_new['lastplayed_pl']=(pd.to_datetime(data_new['lastplayed_pl'],format='%b-%y', errors='coerce')).dt.year"
   ]
  },
  {
   "cell_type": "code",
   "execution_count": 34,
   "id": "dabf19bf",
   "metadata": {},
   "outputs": [
    {
     "data": {
      "text/plain": [
       "lastplayed_pl\n",
       "2023    19\n",
       "2022     3\n",
       "2017     3\n",
       "2018     3\n",
       "2012     2\n",
       "2011     1\n",
       "2007     1\n",
       "2001     1\n",
       "2008     1\n",
       "2002     1\n",
       "2015     1\n",
       "2021     1\n",
       "2000     1\n",
       "2013     1\n",
       "2010     1\n",
       "Name: count, dtype: int64"
      ]
     },
     "execution_count": 34,
     "metadata": {},
     "output_type": "execute_result"
    }
   ],
   "source": [
    "data_new['lastplayed_pl'].value_counts()"
   ]
  },
  {
   "cell_type": "markdown",
   "id": "9551fe74",
   "metadata": {},
   "source": [
    "'lastplayed_pl' column now indicates the year in which each club last appeared in the premier league."
   ]
  },
  {
   "cell_type": "markdown",
   "id": "b409466f",
   "metadata": {},
   "source": [
    "### Data Analysis"
   ]
  },
  {
   "cell_type": "code",
   "execution_count": 35,
   "id": "4f8b95c2",
   "metadata": {},
   "outputs": [
    {
     "data": {
      "text/html": [
       "<div>\n",
       "<style scoped>\n",
       "    .dataframe tbody tr th:only-of-type {\n",
       "        vertical-align: middle;\n",
       "    }\n",
       "\n",
       "    .dataframe tbody tr th {\n",
       "        vertical-align: top;\n",
       "    }\n",
       "\n",
       "    .dataframe thead th {\n",
       "        text-align: right;\n",
       "    }\n",
       "</style>\n",
       "<table border=\"1\" class=\"dataframe\">\n",
       "  <thead>\n",
       "    <tr style=\"text-align: right;\">\n",
       "      <th></th>\n",
       "      <th>Matches Played</th>\n",
       "      <th>Win</th>\n",
       "      <th>Loss</th>\n",
       "      <th>Drawn</th>\n",
       "      <th>Goals</th>\n",
       "      <th>Clean Sheets</th>\n",
       "      <th>Winners</th>\n",
       "      <th>Runners-up</th>\n",
       "      <th>lastplayed_pl</th>\n",
       "    </tr>\n",
       "  </thead>\n",
       "  <tbody>\n",
       "    <tr>\n",
       "      <th>count</th>\n",
       "      <td>40.000000</td>\n",
       "      <td>40.000000</td>\n",
       "      <td>40.000000</td>\n",
       "      <td>40.000000</td>\n",
       "      <td>40.000000</td>\n",
       "      <td>40.000000</td>\n",
       "      <td>40.000000</td>\n",
       "      <td>40.000000</td>\n",
       "      <td>40.000000</td>\n",
       "    </tr>\n",
       "    <tr>\n",
       "      <th>mean</th>\n",
       "      <td>573.750000</td>\n",
       "      <td>215.450000</td>\n",
       "      <td>210.425000</td>\n",
       "      <td>147.875000</td>\n",
       "      <td>769.000000</td>\n",
       "      <td>167.925000</td>\n",
       "      <td>0.750000</td>\n",
       "      <td>0.750000</td>\n",
       "      <td>2018.000000</td>\n",
       "    </tr>\n",
       "    <tr>\n",
       "      <th>std</th>\n",
       "      <td>358.986519</td>\n",
       "      <td>194.164608</td>\n",
       "      <td>102.132364</td>\n",
       "      <td>88.873632</td>\n",
       "      <td>627.746478</td>\n",
       "      <td>135.561584</td>\n",
       "      <td>2.372384</td>\n",
       "      <td>1.750458</td>\n",
       "      <td>6.876195</td>\n",
       "    </tr>\n",
       "    <tr>\n",
       "      <th>min</th>\n",
       "      <td>190.000000</td>\n",
       "      <td>41.000000</td>\n",
       "      <td>85.000000</td>\n",
       "      <td>48.000000</td>\n",
       "      <td>181.000000</td>\n",
       "      <td>45.000000</td>\n",
       "      <td>0.000000</td>\n",
       "      <td>0.000000</td>\n",
       "      <td>2000.000000</td>\n",
       "    </tr>\n",
       "    <tr>\n",
       "      <th>25%</th>\n",
       "      <td>275.000000</td>\n",
       "      <td>80.500000</td>\n",
       "      <td>127.500000</td>\n",
       "      <td>71.500000</td>\n",
       "      <td>304.500000</td>\n",
       "      <td>66.000000</td>\n",
       "      <td>0.000000</td>\n",
       "      <td>0.000000</td>\n",
       "      <td>2014.500000</td>\n",
       "    </tr>\n",
       "    <tr>\n",
       "      <th>50%</th>\n",
       "      <td>443.000000</td>\n",
       "      <td>116.500000</td>\n",
       "      <td>193.500000</td>\n",
       "      <td>120.000000</td>\n",
       "      <td>462.000000</td>\n",
       "      <td>104.000000</td>\n",
       "      <td>0.000000</td>\n",
       "      <td>0.000000</td>\n",
       "      <td>2022.000000</td>\n",
       "    </tr>\n",
       "    <tr>\n",
       "      <th>75%</th>\n",
       "      <td>934.750000</td>\n",
       "      <td>295.750000</td>\n",
       "      <td>263.000000</td>\n",
       "      <td>222.000000</td>\n",
       "      <td>1142.750000</td>\n",
       "      <td>244.250000</td>\n",
       "      <td>0.000000</td>\n",
       "      <td>0.000000</td>\n",
       "      <td>2023.000000</td>\n",
       "    </tr>\n",
       "    <tr>\n",
       "      <th>max</th>\n",
       "      <td>1182.000000</td>\n",
       "      <td>720.000000</td>\n",
       "      <td>429.000000</td>\n",
       "      <td>329.000000</td>\n",
       "      <td>2229.000000</td>\n",
       "      <td>491.000000</td>\n",
       "      <td>13.000000</td>\n",
       "      <td>7.000000</td>\n",
       "      <td>2023.000000</td>\n",
       "    </tr>\n",
       "  </tbody>\n",
       "</table>\n",
       "</div>"
      ],
      "text/plain": [
       "       Matches Played         Win        Loss       Drawn        Goals  \\\n",
       "count       40.000000   40.000000   40.000000   40.000000    40.000000   \n",
       "mean       573.750000  215.450000  210.425000  147.875000   769.000000   \n",
       "std        358.986519  194.164608  102.132364   88.873632   627.746478   \n",
       "min        190.000000   41.000000   85.000000   48.000000   181.000000   \n",
       "25%        275.000000   80.500000  127.500000   71.500000   304.500000   \n",
       "50%        443.000000  116.500000  193.500000  120.000000   462.000000   \n",
       "75%        934.750000  295.750000  263.000000  222.000000  1142.750000   \n",
       "max       1182.000000  720.000000  429.000000  329.000000  2229.000000   \n",
       "\n",
       "       Clean Sheets    Winners  Runners-up  lastplayed_pl  \n",
       "count     40.000000  40.000000   40.000000      40.000000  \n",
       "mean     167.925000   0.750000    0.750000    2018.000000  \n",
       "std      135.561584   2.372384    1.750458       6.876195  \n",
       "min       45.000000   0.000000    0.000000    2000.000000  \n",
       "25%       66.000000   0.000000    0.000000    2014.500000  \n",
       "50%      104.000000   0.000000    0.000000    2022.000000  \n",
       "75%      244.250000   0.000000    0.000000    2023.000000  \n",
       "max      491.000000  13.000000    7.000000    2023.000000  "
      ]
     },
     "execution_count": 35,
     "metadata": {},
     "output_type": "execute_result"
    }
   ],
   "source": [
    "data_new.describe()"
   ]
  },
  {
   "cell_type": "markdown",
   "id": "01774425",
   "metadata": {},
   "source": [
    "Average matches played is 573 and average goals scored is 769. Median of goals scored is 462 which shows some clubs have scored significantly higher goals compared to other clubs.\n",
    "\n",
    "75% of the clubs have neither won nor qualified for the finals even once over. However performance of these clubs also need to be analysed irrespective of their past failures because of 2 reasons. one, 25% top performers might already be owned by competitive firms and two, one of these clubs might have the potential to succeed in further leagues after investing in them.  "
   ]
  },
  {
   "cell_type": "code",
   "execution_count": 36,
   "id": "f7461397",
   "metadata": {},
   "outputs": [
    {
     "data": {
      "text/plain": [
       "20    Manchester United\n",
       "Name: Club, dtype: object"
      ]
     },
     "execution_count": 36,
     "metadata": {},
     "output_type": "execute_result"
    }
   ],
   "source": [
    "data_new[data_new['Winners']==13]['Club']"
   ]
  },
  {
   "cell_type": "markdown",
   "id": "8df573b3",
   "metadata": {},
   "source": [
    "Manchester United has been a winner for 13 times."
   ]
  },
  {
   "cell_type": "code",
   "execution_count": 37,
   "id": "7473478f",
   "metadata": {},
   "outputs": [
    {
     "data": {
      "text/plain": [
       "20    Manchester United\n",
       "Name: Club, dtype: object"
      ]
     },
     "execution_count": 37,
     "metadata": {},
     "output_type": "execute_result"
    }
   ],
   "source": [
    "data_new[data_new['Runners-up']==7]['Club']"
   ]
  },
  {
   "cell_type": "markdown",
   "id": "7fd127b5",
   "metadata": {},
   "source": [
    "The same Manchester United club has been a runner-up for 13 times."
   ]
  },
  {
   "cell_type": "code",
   "execution_count": 40,
   "id": "bec785f5",
   "metadata": {},
   "outputs": [
    {
     "data": {
      "text/html": [
       "<div>\n",
       "<style scoped>\n",
       "    .dataframe tbody tr th:only-of-type {\n",
       "        vertical-align: middle;\n",
       "    }\n",
       "\n",
       "    .dataframe tbody tr th {\n",
       "        vertical-align: top;\n",
       "    }\n",
       "\n",
       "    .dataframe thead th {\n",
       "        text-align: right;\n",
       "    }\n",
       "</style>\n",
       "<table border=\"1\" class=\"dataframe\">\n",
       "  <thead>\n",
       "    <tr style=\"text-align: right;\">\n",
       "      <th></th>\n",
       "      <th>Club</th>\n",
       "      <th>Matches Played</th>\n",
       "      <th>Win</th>\n",
       "      <th>Loss</th>\n",
       "      <th>Drawn</th>\n",
       "      <th>Goals</th>\n",
       "      <th>Clean Sheets</th>\n",
       "      <th>TeamLaunch</th>\n",
       "      <th>Winners</th>\n",
       "      <th>Runners-up</th>\n",
       "      <th>lastplayed_pl</th>\n",
       "    </tr>\n",
       "  </thead>\n",
       "  <tbody>\n",
       "    <tr>\n",
       "      <th>20</th>\n",
       "      <td>Manchester United</td>\n",
       "      <td>1181</td>\n",
       "      <td>720</td>\n",
       "      <td>199</td>\n",
       "      <td>262</td>\n",
       "      <td>2229</td>\n",
       "      <td>491</td>\n",
       "      <td>1878</td>\n",
       "      <td>13.0</td>\n",
       "      <td>7</td>\n",
       "      <td>2023</td>\n",
       "    </tr>\n",
       "  </tbody>\n",
       "</table>\n",
       "</div>"
      ],
      "text/plain": [
       "                 Club  Matches Played  Win  Loss  Drawn  Goals  Clean Sheets  \\\n",
       "20  Manchester United            1181  720   199    262   2229           491   \n",
       "\n",
       "   TeamLaunch  Winners  Runners-up  lastplayed_pl  \n",
       "20       1878     13.0           7           2023  "
      ]
     },
     "execution_count": 40,
     "metadata": {},
     "output_type": "execute_result"
    }
   ],
   "source": [
    "data_new[data_new['Club']=='Manchester United']"
   ]
  },
  {
   "cell_type": "markdown",
   "id": "7c63b799",
   "metadata": {},
   "source": [
    "Manchester United is clearly the top most performing club which probably be owned by a competing firm."
   ]
  },
  {
   "cell_type": "code",
   "execution_count": 41,
   "id": "15339ed3",
   "metadata": {},
   "outputs": [],
   "source": [
    "import matplotlib.pyplot as plt\n",
    "%matplotlib inline"
   ]
  },
  {
   "cell_type": "code",
   "execution_count": 42,
   "id": "137074ef",
   "metadata": {
    "scrolled": true
   },
   "outputs": [
    {
     "data": {
      "text/plain": [
       "Text(0.5, 1.0, 'Matches played')"
      ]
     },
     "execution_count": 42,
     "metadata": {},
     "output_type": "execute_result"
    },
    {
     "data": {
      "image/png": "[encoded data removed]",
      "text/plain": [
       "<Figure size 640x480 with 1 Axes>"
      ]
     },
     "metadata": {},
     "output_type": "display_data"
    }
   ],
   "source": [
    "# plotting histogram of number of matches played \n",
    "\n",
    "plt.hist(data_new['Matches Played'])\n",
    "plt.xlabel('No. of matches played')\n",
    "plt.ylabel('frequency')\n",
    "plt.title('Matches played')"
   ]
  },
  {
   "cell_type": "markdown",
   "id": "994eda8c",
   "metadata": {},
   "source": [
    "This histogram shows that majority of the teams have played 200 to 400 matches and some teams have played more than 800 matches. \n",
    "While teams that have played 1000+ matches would be more experienced and established, they are not the clubs this firm is wanting to invest, Hence these clubs can be removed from our analysis. "
   ]
  },
  {
   "cell_type": "code",
   "execution_count": 44,
   "id": "cdb1cee9",
   "metadata": {},
   "outputs": [
    {
     "data": {
      "text/html": [
       "<div>\n",
       "<style scoped>\n",
       "    .dataframe tbody tr th:only-of-type {\n",
       "        vertical-align: middle;\n",
       "    }\n",
       "\n",
       "    .dataframe tbody tr th {\n",
       "        vertical-align: top;\n",
       "    }\n",
       "\n",
       "    .dataframe thead th {\n",
       "        text-align: right;\n",
       "    }\n",
       "</style>\n",
       "<table border=\"1\" class=\"dataframe\">\n",
       "  <thead>\n",
       "    <tr style=\"text-align: right;\">\n",
       "      <th></th>\n",
       "      <th>Club</th>\n",
       "      <th>Matches Played</th>\n",
       "      <th>Win</th>\n",
       "      <th>Loss</th>\n",
       "      <th>Drawn</th>\n",
       "      <th>Goals</th>\n",
       "      <th>Clean Sheets</th>\n",
       "      <th>TeamLaunch</th>\n",
       "      <th>Winners</th>\n",
       "      <th>Runners-up</th>\n",
       "      <th>lastplayed_pl</th>\n",
       "    </tr>\n",
       "  </thead>\n",
       "  <tbody>\n",
       "    <tr>\n",
       "      <th>0</th>\n",
       "      <td>Arsenal</td>\n",
       "      <td>1182</td>\n",
       "      <td>642</td>\n",
       "      <td>252</td>\n",
       "      <td>288</td>\n",
       "      <td>2089</td>\n",
       "      <td>448</td>\n",
       "      <td>1886</td>\n",
       "      <td>3.0</td>\n",
       "      <td>6</td>\n",
       "      <td>2023</td>\n",
       "    </tr>\n",
       "    <tr>\n",
       "      <th>1</th>\n",
       "      <td>Aston Villa</td>\n",
       "      <td>1062</td>\n",
       "      <td>368</td>\n",
       "      <td>399</td>\n",
       "      <td>295</td>\n",
       "      <td>1306</td>\n",
       "      <td>311</td>\n",
       "      <td>1874</td>\n",
       "      <td>0.0</td>\n",
       "      <td>1</td>\n",
       "      <td>2023</td>\n",
       "    </tr>\n",
       "    <tr>\n",
       "      <th>9</th>\n",
       "      <td>Chelsea</td>\n",
       "      <td>1182</td>\n",
       "      <td>628</td>\n",
       "      <td>261</td>\n",
       "      <td>293</td>\n",
       "      <td>2002</td>\n",
       "      <td>473</td>\n",
       "      <td>1905</td>\n",
       "      <td>5.0</td>\n",
       "      <td>4</td>\n",
       "      <td>2023</td>\n",
       "    </tr>\n",
       "    <tr>\n",
       "      <th>13</th>\n",
       "      <td>Everton</td>\n",
       "      <td>1182</td>\n",
       "      <td>424</td>\n",
       "      <td>429</td>\n",
       "      <td>329</td>\n",
       "      <td>1515</td>\n",
       "      <td>357</td>\n",
       "      <td>1878</td>\n",
       "      <td>0.0</td>\n",
       "      <td>0</td>\n",
       "      <td>2023</td>\n",
       "    </tr>\n",
       "    <tr>\n",
       "      <th>18</th>\n",
       "      <td>Liverpool</td>\n",
       "      <td>1182</td>\n",
       "      <td>621</td>\n",
       "      <td>270</td>\n",
       "      <td>291</td>\n",
       "      <td>2071</td>\n",
       "      <td>453</td>\n",
       "      <td>1892</td>\n",
       "      <td>1.0</td>\n",
       "      <td>5</td>\n",
       "      <td>2023</td>\n",
       "    </tr>\n",
       "    <tr>\n",
       "      <th>19</th>\n",
       "      <td>Manchester City</td>\n",
       "      <td>991</td>\n",
       "      <td>494</td>\n",
       "      <td>283</td>\n",
       "      <td>214</td>\n",
       "      <td>1733</td>\n",
       "      <td>344</td>\n",
       "      <td>1894</td>\n",
       "      <td>6.0</td>\n",
       "      <td>3</td>\n",
       "      <td>2023</td>\n",
       "    </tr>\n",
       "    <tr>\n",
       "      <th>20</th>\n",
       "      <td>Manchester United</td>\n",
       "      <td>1181</td>\n",
       "      <td>720</td>\n",
       "      <td>199</td>\n",
       "      <td>262</td>\n",
       "      <td>2229</td>\n",
       "      <td>491</td>\n",
       "      <td>1878</td>\n",
       "      <td>13.0</td>\n",
       "      <td>7</td>\n",
       "      <td>2023</td>\n",
       "    </tr>\n",
       "    <tr>\n",
       "      <th>22</th>\n",
       "      <td>Newcastle United</td>\n",
       "      <td>1063</td>\n",
       "      <td>397</td>\n",
       "      <td>391</td>\n",
       "      <td>275</td>\n",
       "      <td>1426</td>\n",
       "      <td>280</td>\n",
       "      <td>1892</td>\n",
       "      <td>0.0</td>\n",
       "      <td>2</td>\n",
       "      <td>2023</td>\n",
       "    </tr>\n",
       "    <tr>\n",
       "      <th>29</th>\n",
       "      <td>Southampton</td>\n",
       "      <td>916</td>\n",
       "      <td>280</td>\n",
       "      <td>390</td>\n",
       "      <td>246</td>\n",
       "      <td>1103</td>\n",
       "      <td>237</td>\n",
       "      <td>1885</td>\n",
       "      <td>0.0</td>\n",
       "      <td>0</td>\n",
       "      <td>2023</td>\n",
       "    </tr>\n",
       "    <tr>\n",
       "      <th>33</th>\n",
       "      <td>Tottenham Hotspur</td>\n",
       "      <td>1182</td>\n",
       "      <td>518</td>\n",
       "      <td>378</td>\n",
       "      <td>286</td>\n",
       "      <td>1800</td>\n",
       "      <td>339</td>\n",
       "      <td>1882</td>\n",
       "      <td>0.0</td>\n",
       "      <td>1</td>\n",
       "      <td>2023</td>\n",
       "    </tr>\n",
       "    <tr>\n",
       "      <th>36</th>\n",
       "      <td>West Ham United</td>\n",
       "      <td>1025</td>\n",
       "      <td>343</td>\n",
       "      <td>423</td>\n",
       "      <td>259</td>\n",
       "      <td>1262</td>\n",
       "      <td>266</td>\n",
       "      <td>1895</td>\n",
       "      <td>0.0</td>\n",
       "      <td>0</td>\n",
       "      <td>2023</td>\n",
       "    </tr>\n",
       "  </tbody>\n",
       "</table>\n",
       "</div>"
      ],
      "text/plain": [
       "                 Club  Matches Played  Win  Loss  Drawn  Goals  Clean Sheets  \\\n",
       "0             Arsenal            1182  642   252    288   2089           448   \n",
       "1         Aston Villa            1062  368   399    295   1306           311   \n",
       "9             Chelsea            1182  628   261    293   2002           473   \n",
       "13            Everton            1182  424   429    329   1515           357   \n",
       "18          Liverpool            1182  621   270    291   2071           453   \n",
       "19    Manchester City             991  494   283    214   1733           344   \n",
       "20  Manchester United            1181  720   199    262   2229           491   \n",
       "22   Newcastle United            1063  397   391    275   1426           280   \n",
       "29        Southampton             916  280   390    246   1103           237   \n",
       "33  Tottenham Hotspur            1182  518   378    286   1800           339   \n",
       "36    West Ham United            1025  343   423    259   1262           266   \n",
       "\n",
       "   TeamLaunch  Winners  Runners-up  lastplayed_pl  \n",
       "0        1886      3.0           6           2023  \n",
       "1        1874      0.0           1           2023  \n",
       "9        1905      5.0           4           2023  \n",
       "13       1878      0.0           0           2023  \n",
       "18       1892      1.0           5           2023  \n",
       "19       1894      6.0           3           2023  \n",
       "20       1878     13.0           7           2023  \n",
       "22       1892      0.0           2           2023  \n",
       "29       1885      0.0           0           2023  \n",
       "33       1882      0.0           1           2023  \n",
       "36       1895      0.0           0           2023  "
      ]
     },
     "execution_count": 44,
     "metadata": {},
     "output_type": "execute_result"
    }
   ],
   "source": [
    "data_new[data_new['Matches Played']>=900]"
   ]
  },
  {
   "cell_type": "markdown",
   "id": "2663c90f",
   "metadata": {},
   "source": [
    "As the team with potential to suceed in the future need to be identified, its better to remove the teams that are more experienced. "
   ]
  },
  {
   "cell_type": "code",
   "execution_count": 45,
   "id": "ec4646e0",
   "metadata": {},
   "outputs": [],
   "source": [
    "data_new=data_new[data_new['Matches Played']<900].reset_index(drop=True)"
   ]
  },
  {
   "cell_type": "code",
   "execution_count": 46,
   "id": "df8ee27a",
   "metadata": {},
   "outputs": [
    {
     "data": {
      "text/plain": [
       "(29, 11)"
      ]
     },
     "execution_count": 46,
     "metadata": {},
     "output_type": "execute_result"
    }
   ],
   "source": [
    "data_new.shape"
   ]
  },
  {
   "cell_type": "markdown",
   "id": "d8b827ed",
   "metadata": {},
   "source": [
    "Now our dataset is reduced to 29 clubs. "
   ]
  },
  {
   "cell_type": "code",
   "execution_count": 47,
   "id": "2c347088",
   "metadata": {},
   "outputs": [
    {
     "data": {
      "text/html": [
       "<div>\n",
       "<style scoped>\n",
       "    .dataframe tbody tr th:only-of-type {\n",
       "        vertical-align: middle;\n",
       "    }\n",
       "\n",
       "    .dataframe tbody tr th {\n",
       "        vertical-align: top;\n",
       "    }\n",
       "\n",
       "    .dataframe thead th {\n",
       "        text-align: right;\n",
       "    }\n",
       "</style>\n",
       "<table border=\"1\" class=\"dataframe\">\n",
       "  <thead>\n",
       "    <tr style=\"text-align: right;\">\n",
       "      <th></th>\n",
       "      <th>Club</th>\n",
       "      <th>Matches Played</th>\n",
       "      <th>Win</th>\n",
       "      <th>Loss</th>\n",
       "      <th>Drawn</th>\n",
       "      <th>Goals</th>\n",
       "      <th>Clean Sheets</th>\n",
       "      <th>TeamLaunch</th>\n",
       "      <th>Winners</th>\n",
       "      <th>Runners-up</th>\n",
       "      <th>lastplayed_pl</th>\n",
       "    </tr>\n",
       "  </thead>\n",
       "  <tbody>\n",
       "    <tr>\n",
       "      <th>0</th>\n",
       "      <td>Birmingham City</td>\n",
       "      <td>266</td>\n",
       "      <td>73</td>\n",
       "      <td>111</td>\n",
       "      <td>82</td>\n",
       "      <td>273</td>\n",
       "      <td>66</td>\n",
       "      <td>1875</td>\n",
       "      <td>0.0</td>\n",
       "      <td>0</td>\n",
       "      <td>2011</td>\n",
       "    </tr>\n",
       "    <tr>\n",
       "      <th>1</th>\n",
       "      <td>Blackburn Rovers</td>\n",
       "      <td>696</td>\n",
       "      <td>262</td>\n",
       "      <td>250</td>\n",
       "      <td>184</td>\n",
       "      <td>927</td>\n",
       "      <td>210</td>\n",
       "      <td>1875</td>\n",
       "      <td>1.0</td>\n",
       "      <td>1</td>\n",
       "      <td>2012</td>\n",
       "    </tr>\n",
       "    <tr>\n",
       "      <th>2</th>\n",
       "      <td>Bolton Wanderers</td>\n",
       "      <td>494</td>\n",
       "      <td>149</td>\n",
       "      <td>217</td>\n",
       "      <td>128</td>\n",
       "      <td>575</td>\n",
       "      <td>108</td>\n",
       "      <td>1874</td>\n",
       "      <td>0.0</td>\n",
       "      <td>0</td>\n",
       "      <td>2012</td>\n",
       "    </tr>\n",
       "    <tr>\n",
       "      <th>3</th>\n",
       "      <td>Bournemouth</td>\n",
       "      <td>219</td>\n",
       "      <td>64</td>\n",
       "      <td>107</td>\n",
       "      <td>48</td>\n",
       "      <td>269</td>\n",
       "      <td>45</td>\n",
       "      <td>1899</td>\n",
       "      <td>0.0</td>\n",
       "      <td>0</td>\n",
       "      <td>2023</td>\n",
       "    </tr>\n",
       "    <tr>\n",
       "      <th>4</th>\n",
       "      <td>Brighton &amp; Hove Albion</td>\n",
       "      <td>218</td>\n",
       "      <td>61</td>\n",
       "      <td>85</td>\n",
       "      <td>72</td>\n",
       "      <td>243</td>\n",
       "      <td>58</td>\n",
       "      <td>1901</td>\n",
       "      <td>0.0</td>\n",
       "      <td>0</td>\n",
       "      <td>2023</td>\n",
       "    </tr>\n",
       "  </tbody>\n",
       "</table>\n",
       "</div>"
      ],
      "text/plain": [
       "                     Club  Matches Played  Win  Loss  Drawn  Goals  \\\n",
       "0         Birmingham City             266   73   111     82    273   \n",
       "1        Blackburn Rovers             696  262   250    184    927   \n",
       "2        Bolton Wanderers             494  149   217    128    575   \n",
       "3             Bournemouth             219   64   107     48    269   \n",
       "4  Brighton & Hove Albion             218   61    85     72    243   \n",
       "\n",
       "   Clean Sheets TeamLaunch  Winners  Runners-up  lastplayed_pl  \n",
       "0            66       1875      0.0           0           2011  \n",
       "1           210       1875      1.0           1           2012  \n",
       "2           108       1874      0.0           0           2012  \n",
       "3            45       1899      0.0           0           2023  \n",
       "4            58       1901      0.0           0           2023  "
      ]
     },
     "execution_count": 47,
     "metadata": {},
     "output_type": "execute_result"
    }
   ],
   "source": [
    "data_new.head()"
   ]
  },
  {
   "cell_type": "markdown",
   "id": "e97a9558",
   "metadata": {},
   "source": [
    "To compare the performances of these clubs, percentage of win, loss, draw and clean sheets can be calculated and stored in new columns. Average goals per match of each team is also required for analysis."
   ]
  },
  {
   "cell_type": "code",
   "execution_count": 51,
   "id": "3b3f0cbd",
   "metadata": {},
   "outputs": [],
   "source": [
    "#calculating new metrics and storing in new columns\n",
    "data_new['winning_rate']= (data_new['Win']/data_new['Matches Played'])*100\n",
    "\n",
    "data_new['loss_rate']= (data_new['Loss']/data_new['Matches Played'])*100\n",
    "\n",
    "data_new['draw_rate']= (data_new['Drawn']/data_new['Matches Played'])*100\n",
    "\n",
    "data_new['cleansheet_rate']= (data_new['Clean Sheets']/data_new['Matches Played'])*100"
   ]
  },
  {
   "cell_type": "code",
   "execution_count": 52,
   "id": "2b23aa02",
   "metadata": {},
   "outputs": [],
   "source": [
    "data_new['Average_goals']=data_new['Goals']/data_new['Matches Played']\n",
    "data_new['Average_goals']=data_new['Average_goals'].round()"
   ]
  },
  {
   "cell_type": "code",
   "execution_count": 53,
   "id": "605eb78a",
   "metadata": {},
   "outputs": [
    {
     "data": {
      "text/html": [
       "<div>\n",
       "<style scoped>\n",
       "    .dataframe tbody tr th:only-of-type {\n",
       "        vertical-align: middle;\n",
       "    }\n",
       "\n",
       "    .dataframe tbody tr th {\n",
       "        vertical-align: top;\n",
       "    }\n",
       "\n",
       "    .dataframe thead th {\n",
       "        text-align: right;\n",
       "    }\n",
       "</style>\n",
       "<table border=\"1\" class=\"dataframe\">\n",
       "  <thead>\n",
       "    <tr style=\"text-align: right;\">\n",
       "      <th></th>\n",
       "      <th>Club</th>\n",
       "      <th>Matches Played</th>\n",
       "      <th>Win</th>\n",
       "      <th>Loss</th>\n",
       "      <th>Drawn</th>\n",
       "      <th>Goals</th>\n",
       "      <th>Clean Sheets</th>\n",
       "      <th>TeamLaunch</th>\n",
       "      <th>Winners</th>\n",
       "      <th>Runners-up</th>\n",
       "      <th>lastplayed_pl</th>\n",
       "      <th>winning_rate</th>\n",
       "      <th>loss_rate</th>\n",
       "      <th>draw_rate</th>\n",
       "      <th>cleansheet_rate</th>\n",
       "      <th>Average_goals</th>\n",
       "    </tr>\n",
       "  </thead>\n",
       "  <tbody>\n",
       "    <tr>\n",
       "      <th>0</th>\n",
       "      <td>Birmingham City</td>\n",
       "      <td>266</td>\n",
       "      <td>73</td>\n",
       "      <td>111</td>\n",
       "      <td>82</td>\n",
       "      <td>273</td>\n",
       "      <td>66</td>\n",
       "      <td>1875</td>\n",
       "      <td>0.0</td>\n",
       "      <td>0</td>\n",
       "      <td>2011</td>\n",
       "      <td>27.443609</td>\n",
       "      <td>41.729323</td>\n",
       "      <td>30.827068</td>\n",
       "      <td>24.812030</td>\n",
       "      <td>1.0</td>\n",
       "    </tr>\n",
       "    <tr>\n",
       "      <th>1</th>\n",
       "      <td>Blackburn Rovers</td>\n",
       "      <td>696</td>\n",
       "      <td>262</td>\n",
       "      <td>250</td>\n",
       "      <td>184</td>\n",
       "      <td>927</td>\n",
       "      <td>210</td>\n",
       "      <td>1875</td>\n",
       "      <td>1.0</td>\n",
       "      <td>1</td>\n",
       "      <td>2012</td>\n",
       "      <td>37.643678</td>\n",
       "      <td>35.919540</td>\n",
       "      <td>26.436782</td>\n",
       "      <td>30.172414</td>\n",
       "      <td>1.0</td>\n",
       "    </tr>\n",
       "    <tr>\n",
       "      <th>2</th>\n",
       "      <td>Bolton Wanderers</td>\n",
       "      <td>494</td>\n",
       "      <td>149</td>\n",
       "      <td>217</td>\n",
       "      <td>128</td>\n",
       "      <td>575</td>\n",
       "      <td>108</td>\n",
       "      <td>1874</td>\n",
       "      <td>0.0</td>\n",
       "      <td>0</td>\n",
       "      <td>2012</td>\n",
       "      <td>30.161943</td>\n",
       "      <td>43.927126</td>\n",
       "      <td>25.910931</td>\n",
       "      <td>21.862348</td>\n",
       "      <td>1.0</td>\n",
       "    </tr>\n",
       "    <tr>\n",
       "      <th>3</th>\n",
       "      <td>Bournemouth</td>\n",
       "      <td>219</td>\n",
       "      <td>64</td>\n",
       "      <td>107</td>\n",
       "      <td>48</td>\n",
       "      <td>269</td>\n",
       "      <td>45</td>\n",
       "      <td>1899</td>\n",
       "      <td>0.0</td>\n",
       "      <td>0</td>\n",
       "      <td>2023</td>\n",
       "      <td>29.223744</td>\n",
       "      <td>48.858447</td>\n",
       "      <td>21.917808</td>\n",
       "      <td>20.547945</td>\n",
       "      <td>1.0</td>\n",
       "    </tr>\n",
       "    <tr>\n",
       "      <th>4</th>\n",
       "      <td>Brighton &amp; Hove Albion</td>\n",
       "      <td>218</td>\n",
       "      <td>61</td>\n",
       "      <td>85</td>\n",
       "      <td>72</td>\n",
       "      <td>243</td>\n",
       "      <td>58</td>\n",
       "      <td>1901</td>\n",
       "      <td>0.0</td>\n",
       "      <td>0</td>\n",
       "      <td>2023</td>\n",
       "      <td>27.981651</td>\n",
       "      <td>38.990826</td>\n",
       "      <td>33.027523</td>\n",
       "      <td>26.605505</td>\n",
       "      <td>1.0</td>\n",
       "    </tr>\n",
       "  </tbody>\n",
       "</table>\n",
       "</div>"
      ],
      "text/plain": [
       "                     Club  Matches Played  Win  Loss  Drawn  Goals  \\\n",
       "0         Birmingham City             266   73   111     82    273   \n",
       "1        Blackburn Rovers             696  262   250    184    927   \n",
       "2        Bolton Wanderers             494  149   217    128    575   \n",
       "3             Bournemouth             219   64   107     48    269   \n",
       "4  Brighton & Hove Albion             218   61    85     72    243   \n",
       "\n",
       "   Clean Sheets TeamLaunch  Winners  Runners-up  lastplayed_pl  winning_rate  \\\n",
       "0            66       1875      0.0           0           2011     27.443609   \n",
       "1           210       1875      1.0           1           2012     37.643678   \n",
       "2           108       1874      0.0           0           2012     30.161943   \n",
       "3            45       1899      0.0           0           2023     29.223744   \n",
       "4            58       1901      0.0           0           2023     27.981651   \n",
       "\n",
       "   loss_rate  draw_rate  cleansheet_rate  Average_goals  \n",
       "0  41.729323  30.827068        24.812030            1.0  \n",
       "1  35.919540  26.436782        30.172414            1.0  \n",
       "2  43.927126  25.910931        21.862348            1.0  \n",
       "3  48.858447  21.917808        20.547945            1.0  \n",
       "4  38.990826  33.027523        26.605505            1.0  "
      ]
     },
     "execution_count": 53,
     "metadata": {},
     "output_type": "execute_result"
    }
   ],
   "source": [
    "data_new.head()"
   ]
  },
  {
   "cell_type": "code",
   "execution_count": 54,
   "id": "b4b925cf",
   "metadata": {},
   "outputs": [
    {
     "data": {
      "image/png": "[encoded data removed]",
      "text/plain": [
       "<Figure size 800x600 with 1 Axes>"
      ]
     },
     "metadata": {},
     "output_type": "display_data"
    }
   ],
   "source": [
    "# boxplot of winning, loss and drawn rates\n",
    "\n",
    "plt.figure(figsize=(8,6))\n",
    "plt.boxplot([data_new['winning_rate'],data_new['loss_rate'],data_new['draw_rate'],data_new['cleansheet_rate']],\n",
    "            patch_artist=True,\n",
    "            labels=['winning rate','Loss rate','Drawn rate','clean sheet rate'])\n",
    "plt.title('performance rate') \n",
    "plt.ylabel('rate')\n",
    "\n",
    "plt.show()"
   ]
  },
  {
   "cell_type": "markdown",
   "id": "feed04e1",
   "metadata": {},
   "source": [
    "2 of these teams have very high winning rates. overall loss rate of teams are higher than winning rate. one team has high drawn rate, but impact of drawn rate depends on winning or lossing rates of that particular club.\n",
    "\n",
    "It is helpful for further analysis to know which are the clubs that have the highest winning rates and the one club that has the lowest winning rate."
   ]
  },
  {
   "cell_type": "code",
   "execution_count": 55,
   "id": "20189392",
   "metadata": {},
   "outputs": [
    {
     "data": {
      "text/html": [
       "<div>\n",
       "<style scoped>\n",
       "    .dataframe tbody tr th:only-of-type {\n",
       "        vertical-align: middle;\n",
       "    }\n",
       "\n",
       "    .dataframe tbody tr th {\n",
       "        vertical-align: top;\n",
       "    }\n",
       "\n",
       "    .dataframe thead th {\n",
       "        text-align: right;\n",
       "    }\n",
       "</style>\n",
       "<table border=\"1\" class=\"dataframe\">\n",
       "  <thead>\n",
       "    <tr style=\"text-align: right;\">\n",
       "      <th></th>\n",
       "      <th>Club</th>\n",
       "      <th>Matches Played</th>\n",
       "      <th>Win</th>\n",
       "      <th>Loss</th>\n",
       "      <th>Drawn</th>\n",
       "      <th>Goals</th>\n",
       "      <th>Clean Sheets</th>\n",
       "      <th>TeamLaunch</th>\n",
       "      <th>Winners</th>\n",
       "      <th>Runners-up</th>\n",
       "      <th>lastplayed_pl</th>\n",
       "      <th>winning_rate</th>\n",
       "      <th>loss_rate</th>\n",
       "      <th>draw_rate</th>\n",
       "      <th>cleansheet_rate</th>\n",
       "      <th>Average_goals</th>\n",
       "    </tr>\n",
       "  </thead>\n",
       "  <tbody>\n",
       "    <tr>\n",
       "      <th>1</th>\n",
       "      <td>Blackburn Rovers</td>\n",
       "      <td>696</td>\n",
       "      <td>262</td>\n",
       "      <td>250</td>\n",
       "      <td>184</td>\n",
       "      <td>927</td>\n",
       "      <td>210</td>\n",
       "      <td>1875</td>\n",
       "      <td>1.0</td>\n",
       "      <td>1</td>\n",
       "      <td>2012</td>\n",
       "      <td>37.643678</td>\n",
       "      <td>35.919540</td>\n",
       "      <td>26.436782</td>\n",
       "      <td>30.172414</td>\n",
       "      <td>1.0</td>\n",
       "    </tr>\n",
       "    <tr>\n",
       "      <th>12</th>\n",
       "      <td>Leeds United</td>\n",
       "      <td>574</td>\n",
       "      <td>223</td>\n",
       "      <td>202</td>\n",
       "      <td>149</td>\n",
       "      <td>784</td>\n",
       "      <td>179</td>\n",
       "      <td>1919</td>\n",
       "      <td>0.0</td>\n",
       "      <td>0</td>\n",
       "      <td>2023</td>\n",
       "      <td>38.850174</td>\n",
       "      <td>35.191638</td>\n",
       "      <td>25.958188</td>\n",
       "      <td>31.184669</td>\n",
       "      <td>1.0</td>\n",
       "    </tr>\n",
       "  </tbody>\n",
       "</table>\n",
       "</div>"
      ],
      "text/plain": [
       "                Club  Matches Played  Win  Loss  Drawn  Goals  Clean Sheets  \\\n",
       "1   Blackburn Rovers             696  262   250    184    927           210   \n",
       "12      Leeds United             574  223   202    149    784           179   \n",
       "\n",
       "   TeamLaunch  Winners  Runners-up  lastplayed_pl  winning_rate  loss_rate  \\\n",
       "1        1875      1.0           1           2012     37.643678  35.919540   \n",
       "12       1919      0.0           0           2023     38.850174  35.191638   \n",
       "\n",
       "    draw_rate  cleansheet_rate  Average_goals  \n",
       "1   26.436782        30.172414            1.0  \n",
       "12  25.958188        31.184669            1.0  "
      ]
     },
     "execution_count": 55,
     "metadata": {},
     "output_type": "execute_result"
    }
   ],
   "source": [
    "#2 clubs with highest winning rates\n",
    "\n",
    "Q1=data_new['winning_rate'].quantile(0.25)\n",
    "Q3=data_new['winning_rate'].quantile(0.75)\n",
    "IQR=Q3-Q1\n",
    "\n",
    "upper_bound=Q3+ (1.5*IQR)\n",
    "data_new[data_new['winning_rate']> upper_bound]"
   ]
  },
  {
   "cell_type": "markdown",
   "id": "d061feca",
   "metadata": {},
   "source": [
    "Blackburn Rovers and Leeds United are the clubs with the highest winning rates above 37%."
   ]
  },
  {
   "cell_type": "code",
   "execution_count": 56,
   "id": "f4943c38",
   "metadata": {},
   "outputs": [
    {
     "data": {
      "text/html": [
       "<div>\n",
       "<style scoped>\n",
       "    .dataframe tbody tr th:only-of-type {\n",
       "        vertical-align: middle;\n",
       "    }\n",
       "\n",
       "    .dataframe tbody tr th {\n",
       "        vertical-align: top;\n",
       "    }\n",
       "\n",
       "    .dataframe thead th {\n",
       "        text-align: right;\n",
       "    }\n",
       "</style>\n",
       "<table border=\"1\" class=\"dataframe\">\n",
       "  <thead>\n",
       "    <tr style=\"text-align: right;\">\n",
       "      <th></th>\n",
       "      <th>Club</th>\n",
       "      <th>Matches Played</th>\n",
       "      <th>Win</th>\n",
       "      <th>Loss</th>\n",
       "      <th>Drawn</th>\n",
       "      <th>Goals</th>\n",
       "      <th>Clean Sheets</th>\n",
       "      <th>TeamLaunch</th>\n",
       "      <th>Winners</th>\n",
       "      <th>Runners-up</th>\n",
       "      <th>lastplayed_pl</th>\n",
       "      <th>winning_rate</th>\n",
       "      <th>loss_rate</th>\n",
       "      <th>draw_rate</th>\n",
       "      <th>cleansheet_rate</th>\n",
       "      <th>Average_goals</th>\n",
       "    </tr>\n",
       "  </thead>\n",
       "  <tbody>\n",
       "    <tr>\n",
       "      <th>17</th>\n",
       "      <td>Hull City</td>\n",
       "      <td>190</td>\n",
       "      <td>41</td>\n",
       "      <td>101</td>\n",
       "      <td>48</td>\n",
       "      <td>181</td>\n",
       "      <td>58</td>\n",
       "      <td>1904</td>\n",
       "      <td>0.0</td>\n",
       "      <td>0</td>\n",
       "      <td>2017</td>\n",
       "      <td>21.578947</td>\n",
       "      <td>53.157895</td>\n",
       "      <td>25.263158</td>\n",
       "      <td>30.526316</td>\n",
       "      <td>1.0</td>\n",
       "    </tr>\n",
       "  </tbody>\n",
       "</table>\n",
       "</div>"
      ],
      "text/plain": [
       "         Club  Matches Played  Win  Loss  Drawn  Goals  Clean Sheets  \\\n",
       "17  Hull City             190   41   101     48    181            58   \n",
       "\n",
       "   TeamLaunch  Winners  Runners-up  lastplayed_pl  winning_rate  loss_rate  \\\n",
       "17       1904      0.0           0           2017     21.578947  53.157895   \n",
       "\n",
       "    draw_rate  cleansheet_rate  Average_goals  \n",
       "17  25.263158        30.526316            1.0  "
      ]
     },
     "execution_count": 56,
     "metadata": {},
     "output_type": "execute_result"
    }
   ],
   "source": [
    "#one club with lowest winning rate\n",
    "\n",
    "lower_bound=Q1-(1.5*IQR)\n",
    "data_new[data_new['winning_rate']<lower_bound]"
   ]
  },
  {
   "cell_type": "markdown",
   "id": "e2262492",
   "metadata": {},
   "source": [
    "Hull city is the club with the least winning rate."
   ]
  },
  {
   "cell_type": "code",
   "execution_count": 57,
   "id": "61bfe949",
   "metadata": {},
   "outputs": [
    {
     "data": {
      "text/html": [
       "<div>\n",
       "<style scoped>\n",
       "    .dataframe tbody tr th:only-of-type {\n",
       "        vertical-align: middle;\n",
       "    }\n",
       "\n",
       "    .dataframe tbody tr th {\n",
       "        vertical-align: top;\n",
       "    }\n",
       "\n",
       "    .dataframe thead th {\n",
       "        text-align: right;\n",
       "    }\n",
       "</style>\n",
       "<table border=\"1\" class=\"dataframe\">\n",
       "  <thead>\n",
       "    <tr style=\"text-align: right;\">\n",
       "      <th></th>\n",
       "      <th>Club</th>\n",
       "      <th>Matches Played</th>\n",
       "      <th>Win</th>\n",
       "      <th>Loss</th>\n",
       "      <th>Drawn</th>\n",
       "      <th>Goals</th>\n",
       "      <th>Clean Sheets</th>\n",
       "      <th>TeamLaunch</th>\n",
       "      <th>Winners</th>\n",
       "      <th>Runners-up</th>\n",
       "      <th>lastplayed_pl</th>\n",
       "      <th>winning_rate</th>\n",
       "      <th>loss_rate</th>\n",
       "      <th>draw_rate</th>\n",
       "      <th>cleansheet_rate</th>\n",
       "      <th>Average_goals</th>\n",
       "    </tr>\n",
       "  </thead>\n",
       "  <tbody>\n",
       "    <tr>\n",
       "      <th>4</th>\n",
       "      <td>Brighton &amp; Hove Albion</td>\n",
       "      <td>218</td>\n",
       "      <td>61</td>\n",
       "      <td>85</td>\n",
       "      <td>72</td>\n",
       "      <td>243</td>\n",
       "      <td>58</td>\n",
       "      <td>1901</td>\n",
       "      <td>0.0</td>\n",
       "      <td>0</td>\n",
       "      <td>2023</td>\n",
       "      <td>27.981651</td>\n",
       "      <td>38.990826</td>\n",
       "      <td>33.027523</td>\n",
       "      <td>26.605505</td>\n",
       "      <td>1.0</td>\n",
       "    </tr>\n",
       "  </tbody>\n",
       "</table>\n",
       "</div>"
      ],
      "text/plain": [
       "                     Club  Matches Played  Win  Loss  Drawn  Goals  \\\n",
       "4  Brighton & Hove Albion             218   61    85     72    243   \n",
       "\n",
       "   Clean Sheets TeamLaunch  Winners  Runners-up  lastplayed_pl  winning_rate  \\\n",
       "4            58       1901      0.0           0           2023     27.981651   \n",
       "\n",
       "   loss_rate  draw_rate  cleansheet_rate  Average_goals  \n",
       "4  38.990826  33.027523        26.605505            1.0  "
      ]
     },
     "execution_count": 57,
     "metadata": {},
     "output_type": "execute_result"
    }
   ],
   "source": [
    "#club with highest upper bound\n",
    "\n",
    "q1=data_new['draw_rate'].quantile(0.25)\n",
    "q3=data_new['draw_rate'].quantile(0.75)\n",
    "IQR=q3-q1\n",
    "\n",
    "upper_bound=q3+ (1.5*IQR)\n",
    "high_rate=data_new[data_new['draw_rate']> upper_bound]\n",
    "high_rate"
   ]
  },
  {
   "cell_type": "markdown",
   "id": "8a156051",
   "metadata": {},
   "source": [
    "Brighton & Hove Albion club has the highest drawn rate at 33% and with nearly 28% winning rate."
   ]
  },
  {
   "cell_type": "code",
   "execution_count": 58,
   "id": "9343fe2b",
   "metadata": {},
   "outputs": [
    {
     "data": {
      "text/plain": [
       "count    29.0\n",
       "mean      1.0\n",
       "std       0.0\n",
       "min       1.0\n",
       "25%       1.0\n",
       "50%       1.0\n",
       "75%       1.0\n",
       "max       1.0\n",
       "Name: Average_goals, dtype: float64"
      ]
     },
     "execution_count": 58,
     "metadata": {},
     "output_type": "execute_result"
    }
   ],
   "source": [
    "data_new['Average_goals'].describe()"
   ]
  },
  {
   "cell_type": "markdown",
   "id": "1b9b7f96",
   "metadata": {},
   "source": [
    "Standard deviation is zero in Average goals column, which means there is no spread in data. No inference can be made from this data. "
   ]
  },
  {
   "cell_type": "code",
   "execution_count": 59,
   "id": "2533d8a9",
   "metadata": {},
   "outputs": [
    {
     "data": {
      "text/plain": [
       "Winners\n",
       "0.0    27\n",
       "1.0     2\n",
       "Name: count, dtype: int64"
      ]
     },
     "execution_count": 59,
     "metadata": {},
     "output_type": "execute_result"
    }
   ],
   "source": [
    "data_new['Winners'].value_counts()"
   ]
  },
  {
   "cell_type": "code",
   "execution_count": 60,
   "id": "502c8a8b",
   "metadata": {},
   "outputs": [
    {
     "data": {
      "text/plain": [
       "Runners-up\n",
       "0    28\n",
       "1     1\n",
       "Name: count, dtype: int64"
      ]
     },
     "execution_count": 60,
     "metadata": {},
     "output_type": "execute_result"
    }
   ],
   "source": [
    "data_new['Runners-up'].value_counts()"
   ]
  },
  {
   "cell_type": "markdown",
   "id": "96ae61b3",
   "metadata": {},
   "source": [
    "Only 2 clubs have emerged has winners once and 1 club has been a runner-up in this updated data."
   ]
  },
  {
   "cell_type": "code",
   "execution_count": 61,
   "id": "51af83a6",
   "metadata": {},
   "outputs": [
    {
     "data": {
      "text/html": [
       "<div>\n",
       "<style scoped>\n",
       "    .dataframe tbody tr th:only-of-type {\n",
       "        vertical-align: middle;\n",
       "    }\n",
       "\n",
       "    .dataframe tbody tr th {\n",
       "        vertical-align: top;\n",
       "    }\n",
       "\n",
       "    .dataframe thead th {\n",
       "        text-align: right;\n",
       "    }\n",
       "</style>\n",
       "<table border=\"1\" class=\"dataframe\">\n",
       "  <thead>\n",
       "    <tr style=\"text-align: right;\">\n",
       "      <th></th>\n",
       "      <th>Club</th>\n",
       "      <th>Matches Played</th>\n",
       "      <th>Win</th>\n",
       "      <th>Loss</th>\n",
       "      <th>Drawn</th>\n",
       "      <th>Goals</th>\n",
       "      <th>Clean Sheets</th>\n",
       "      <th>TeamLaunch</th>\n",
       "      <th>Winners</th>\n",
       "      <th>Runners-up</th>\n",
       "      <th>lastplayed_pl</th>\n",
       "      <th>winning_rate</th>\n",
       "      <th>loss_rate</th>\n",
       "      <th>draw_rate</th>\n",
       "      <th>cleansheet_rate</th>\n",
       "      <th>Average_goals</th>\n",
       "    </tr>\n",
       "  </thead>\n",
       "  <tbody>\n",
       "    <tr>\n",
       "      <th>1</th>\n",
       "      <td>Blackburn Rovers</td>\n",
       "      <td>696</td>\n",
       "      <td>262</td>\n",
       "      <td>250</td>\n",
       "      <td>184</td>\n",
       "      <td>927</td>\n",
       "      <td>210</td>\n",
       "      <td>1875</td>\n",
       "      <td>1.0</td>\n",
       "      <td>1</td>\n",
       "      <td>2012</td>\n",
       "      <td>37.643678</td>\n",
       "      <td>35.919540</td>\n",
       "      <td>26.436782</td>\n",
       "      <td>30.172414</td>\n",
       "      <td>1.0</td>\n",
       "    </tr>\n",
       "    <tr>\n",
       "      <th>13</th>\n",
       "      <td>Leicester City</td>\n",
       "      <td>642</td>\n",
       "      <td>216</td>\n",
       "      <td>262</td>\n",
       "      <td>164</td>\n",
       "      <td>860</td>\n",
       "      <td>167</td>\n",
       "      <td>1884</td>\n",
       "      <td>1.0</td>\n",
       "      <td>0</td>\n",
       "      <td>2023</td>\n",
       "      <td>33.644860</td>\n",
       "      <td>40.809969</td>\n",
       "      <td>25.545171</td>\n",
       "      <td>26.012461</td>\n",
       "      <td>1.0</td>\n",
       "    </tr>\n",
       "  </tbody>\n",
       "</table>\n",
       "</div>"
      ],
      "text/plain": [
       "                Club  Matches Played  Win  Loss  Drawn  Goals  Clean Sheets  \\\n",
       "1   Blackburn Rovers             696  262   250    184    927           210   \n",
       "13    Leicester City             642  216   262    164    860           167   \n",
       "\n",
       "   TeamLaunch  Winners  Runners-up  lastplayed_pl  winning_rate  loss_rate  \\\n",
       "1        1875      1.0           1           2012     37.643678  35.919540   \n",
       "13       1884      1.0           0           2023     33.644860  40.809969   \n",
       "\n",
       "    draw_rate  cleansheet_rate  Average_goals  \n",
       "1   26.436782        30.172414            1.0  \n",
       "13  25.545171        26.012461            1.0  "
      ]
     },
     "execution_count": 61,
     "metadata": {},
     "output_type": "execute_result"
    }
   ],
   "source": [
    "data_new[(data_new['Winners']==True) | (data_new['Runners-up']==True)]"
   ]
  },
  {
   "cell_type": "markdown",
   "id": "bc0c6de0",
   "metadata": {},
   "source": [
    "Blackburn Rovers club has won and been a runner-up once. Leicester City\thas won once."
   ]
  },
  {
   "cell_type": "code",
   "execution_count": 62,
   "id": "59578441",
   "metadata": {},
   "outputs": [
    {
     "data": {
      "text/plain": [
       "count     29.000000\n",
       "mean     372.482759\n",
       "std      153.533296\n",
       "min      190.000000\n",
       "25%      266.000000\n",
       "50%      305.000000\n",
       "75%      494.000000\n",
       "max      696.000000\n",
       "Name: Matches Played, dtype: float64"
      ]
     },
     "execution_count": 62,
     "metadata": {},
     "output_type": "execute_result"
    }
   ],
   "source": [
    "data_new['Matches Played'].describe()"
   ]
  },
  {
   "cell_type": "markdown",
   "id": "855913f5",
   "metadata": {},
   "source": [
    "Average matches played by these 29 teams is 372"
   ]
  },
  {
   "cell_type": "code",
   "execution_count": 63,
   "id": "6f0b6f99",
   "metadata": {},
   "outputs": [
    {
     "data": {
      "text/plain": [
       "lastplayed_pl\n",
       "2023    8\n",
       "2022    3\n",
       "2017    3\n",
       "2018    3\n",
       "2012    2\n",
       "2011    1\n",
       "2007    1\n",
       "2001    1\n",
       "2008    1\n",
       "2002    1\n",
       "2015    1\n",
       "2021    1\n",
       "2000    1\n",
       "2013    1\n",
       "2010    1\n",
       "Name: count, dtype: int64"
      ]
     },
     "execution_count": 63,
     "metadata": {},
     "output_type": "execute_result"
    }
   ],
   "source": [
    "data_new['lastplayed_pl'].value_counts()"
   ]
  },
  {
   "cell_type": "markdown",
   "id": "59ef2c39",
   "metadata": {},
   "source": [
    "Only 8 of these 29 have played in 2023 and there are some clubs whose last played years is 2021/2022. \n",
    "Prioritizing these teams in the analysis."
   ]
  },
  {
   "cell_type": "code",
   "execution_count": 64,
   "id": "f2265cf3",
   "metadata": {},
   "outputs": [
    {
     "data": {
      "text/plain": [
       "3                 Bournemouth\n",
       "4      Brighton & Hove Albion\n",
       "8              Crystal Palace\n",
       "10                     Fulham\n",
       "12               Leeds United\n",
       "13             Leicester City\n",
       "16          Nottingham Forest\n",
       "27    Wolverhampton Wanderers\n",
       "Name: Club, dtype: object"
      ]
     },
     "execution_count": 64,
     "metadata": {},
     "output_type": "execute_result"
    }
   ],
   "source": [
    "data_new[data_new['lastplayed_pl']==2023]['Club']"
   ]
  },
  {
   "cell_type": "markdown",
   "id": "fb3b9676",
   "metadata": {},
   "source": [
    "Giving more priority to teams that have more recent experience playing in the Premier League is ideal. When making the final decision, we will assign higher weight to teams that have played more recently, and lesser weight to those that have not played recently."
   ]
  },
  {
   "cell_type": "markdown",
   "id": "8d48f7ab",
   "metadata": {},
   "source": [
    "### Final Recommendations Framework\n"
   ]
  },
  {
   "cell_type": "markdown",
   "id": "3ba7dc21",
   "metadata": {},
   "source": [
    "To ensure better comparison among teams, Let's Score each team on the pre defined metrics.\n",
    "\n",
    "* Give a score of 10 if club have a relatively high experience in the Premier League above average (372)\n",
    "* Give a score of 15 if club has a winning rate above Q3\n",
    "* Give a score of 15 if club has a losing rate below Q1\n",
    "* Give a score of 10 if club has a drawn rate below Q1 and a losing rate below Q1\n",
    "* Give a score of 10 if club has a clean sheet above Q3 and a winning rate above Q3\n",
    "* Give a score of 15 if club has won the premier league\n",
    "* Give a score of 10 if club has been a runner-up in the premier league\n",
    "* Give a score of 15 if club has been currently playing in the premier league"
   ]
  },
  {
   "cell_type": "code",
   "execution_count": 65,
   "id": "9061f39a",
   "metadata": {},
   "outputs": [],
   "source": [
    "# upper_bound_winningrate -> winning rate above Q3 \n",
    "upper_bound_winningrate=data_new['winning_rate'].quantile(0.75)\n",
    "\n",
    "# lower_bound_lossrate -> loss rate below Q1\n",
    "lower_bound_lossrate=data_new['loss_rate'].quantile(0.25)\n",
    "\n",
    "# lower_bound_drawrate -> drawn rate below Q1\n",
    "lower_bound_drawrate=data_new['draw_rate'].quantile(0.25)\n",
    "\n",
    "# upper_bound_cleansheetrate ->  clean sheet rate above Q3\n",
    "upper_bound_cleansheetrate=data_new['cleansheet_rate'].quantile(0.75)"
   ]
  },
  {
   "cell_type": "code",
   "execution_count": 67,
   "id": "9bf55dd3",
   "metadata": {},
   "outputs": [],
   "source": [
    "# Creating a new column 'score' with zeroes as values\n",
    "data_new['score']=np.zeros(len(data_new))"
   ]
  },
  {
   "cell_type": "code",
   "execution_count": 68,
   "id": "d943b5d6",
   "metadata": {
    "scrolled": true
   },
   "outputs": [
    {
     "data": {
      "text/html": [
       "<div>\n",
       "<style scoped>\n",
       "    .dataframe tbody tr th:only-of-type {\n",
       "        vertical-align: middle;\n",
       "    }\n",
       "\n",
       "    .dataframe tbody tr th {\n",
       "        vertical-align: top;\n",
       "    }\n",
       "\n",
       "    .dataframe thead th {\n",
       "        text-align: right;\n",
       "    }\n",
       "</style>\n",
       "<table border=\"1\" class=\"dataframe\">\n",
       "  <thead>\n",
       "    <tr style=\"text-align: right;\">\n",
       "      <th></th>\n",
       "      <th>Club</th>\n",
       "      <th>Matches Played</th>\n",
       "      <th>Win</th>\n",
       "      <th>Loss</th>\n",
       "      <th>Drawn</th>\n",
       "      <th>Goals</th>\n",
       "      <th>Clean Sheets</th>\n",
       "      <th>TeamLaunch</th>\n",
       "      <th>Winners</th>\n",
       "      <th>Runners-up</th>\n",
       "      <th>lastplayed_pl</th>\n",
       "      <th>winning_rate</th>\n",
       "      <th>loss_rate</th>\n",
       "      <th>draw_rate</th>\n",
       "      <th>cleansheet_rate</th>\n",
       "      <th>Average_goals</th>\n",
       "      <th>score</th>\n",
       "    </tr>\n",
       "  </thead>\n",
       "  <tbody>\n",
       "    <tr>\n",
       "      <th>0</th>\n",
       "      <td>Birmingham City</td>\n",
       "      <td>266</td>\n",
       "      <td>73</td>\n",
       "      <td>111</td>\n",
       "      <td>82</td>\n",
       "      <td>273</td>\n",
       "      <td>66</td>\n",
       "      <td>1875</td>\n",
       "      <td>0.0</td>\n",
       "      <td>0</td>\n",
       "      <td>2011</td>\n",
       "      <td>27.443609</td>\n",
       "      <td>41.729323</td>\n",
       "      <td>30.827068</td>\n",
       "      <td>24.812030</td>\n",
       "      <td>1.0</td>\n",
       "      <td>0.0</td>\n",
       "    </tr>\n",
       "    <tr>\n",
       "      <th>1</th>\n",
       "      <td>Blackburn Rovers</td>\n",
       "      <td>696</td>\n",
       "      <td>262</td>\n",
       "      <td>250</td>\n",
       "      <td>184</td>\n",
       "      <td>927</td>\n",
       "      <td>210</td>\n",
       "      <td>1875</td>\n",
       "      <td>1.0</td>\n",
       "      <td>1</td>\n",
       "      <td>2012</td>\n",
       "      <td>37.643678</td>\n",
       "      <td>35.919540</td>\n",
       "      <td>26.436782</td>\n",
       "      <td>30.172414</td>\n",
       "      <td>1.0</td>\n",
       "      <td>0.0</td>\n",
       "    </tr>\n",
       "    <tr>\n",
       "      <th>2</th>\n",
       "      <td>Bolton Wanderers</td>\n",
       "      <td>494</td>\n",
       "      <td>149</td>\n",
       "      <td>217</td>\n",
       "      <td>128</td>\n",
       "      <td>575</td>\n",
       "      <td>108</td>\n",
       "      <td>1874</td>\n",
       "      <td>0.0</td>\n",
       "      <td>0</td>\n",
       "      <td>2012</td>\n",
       "      <td>30.161943</td>\n",
       "      <td>43.927126</td>\n",
       "      <td>25.910931</td>\n",
       "      <td>21.862348</td>\n",
       "      <td>1.0</td>\n",
       "      <td>0.0</td>\n",
       "    </tr>\n",
       "    <tr>\n",
       "      <th>3</th>\n",
       "      <td>Bournemouth</td>\n",
       "      <td>219</td>\n",
       "      <td>64</td>\n",
       "      <td>107</td>\n",
       "      <td>48</td>\n",
       "      <td>269</td>\n",
       "      <td>45</td>\n",
       "      <td>1899</td>\n",
       "      <td>0.0</td>\n",
       "      <td>0</td>\n",
       "      <td>2023</td>\n",
       "      <td>29.223744</td>\n",
       "      <td>48.858447</td>\n",
       "      <td>21.917808</td>\n",
       "      <td>20.547945</td>\n",
       "      <td>1.0</td>\n",
       "      <td>0.0</td>\n",
       "    </tr>\n",
       "    <tr>\n",
       "      <th>4</th>\n",
       "      <td>Brighton &amp; Hove Albion</td>\n",
       "      <td>218</td>\n",
       "      <td>61</td>\n",
       "      <td>85</td>\n",
       "      <td>72</td>\n",
       "      <td>243</td>\n",
       "      <td>58</td>\n",
       "      <td>1901</td>\n",
       "      <td>0.0</td>\n",
       "      <td>0</td>\n",
       "      <td>2023</td>\n",
       "      <td>27.981651</td>\n",
       "      <td>38.990826</td>\n",
       "      <td>33.027523</td>\n",
       "      <td>26.605505</td>\n",
       "      <td>1.0</td>\n",
       "      <td>0.0</td>\n",
       "    </tr>\n",
       "  </tbody>\n",
       "</table>\n",
       "</div>"
      ],
      "text/plain": [
       "                     Club  Matches Played  Win  Loss  Drawn  Goals  \\\n",
       "0         Birmingham City             266   73   111     82    273   \n",
       "1        Blackburn Rovers             696  262   250    184    927   \n",
       "2        Bolton Wanderers             494  149   217    128    575   \n",
       "3             Bournemouth             219   64   107     48    269   \n",
       "4  Brighton & Hove Albion             218   61    85     72    243   \n",
       "\n",
       "   Clean Sheets TeamLaunch  Winners  Runners-up  lastplayed_pl  winning_rate  \\\n",
       "0            66       1875      0.0           0           2011     27.443609   \n",
       "1           210       1875      1.0           1           2012     37.643678   \n",
       "2           108       1874      0.0           0           2012     30.161943   \n",
       "3            45       1899      0.0           0           2023     29.223744   \n",
       "4            58       1901      0.0           0           2023     27.981651   \n",
       "\n",
       "   loss_rate  draw_rate  cleansheet_rate  Average_goals  score  \n",
       "0  41.729323  30.827068        24.812030            1.0    0.0  \n",
       "1  35.919540  26.436782        30.172414            1.0    0.0  \n",
       "2  43.927126  25.910931        21.862348            1.0    0.0  \n",
       "3  48.858447  21.917808        20.547945            1.0    0.0  \n",
       "4  38.990826  33.027523        26.605505            1.0    0.0  "
      ]
     },
     "execution_count": 68,
     "metadata": {},
     "output_type": "execute_result"
    }
   ],
   "source": [
    "data_new.head()"
   ]
  },
  {
   "cell_type": "code",
   "execution_count": 69,
   "id": "03f872f5",
   "metadata": {},
   "outputs": [],
   "source": [
    "# Giving scores based on the conditions\n",
    "data_new.loc[data_new['Matches Played']>=372,'score']+=10\n",
    "\n",
    "data_new.loc[data_new['winning_rate'] >= upper_bound_winningrate,'score'] +=15\n",
    "\n",
    "data_new.loc[data_new['loss_rate']<= lower_bound_lossrate,'score'] +=15\n",
    "\n",
    "data_new.loc[(data_new['draw_rate']<= lower_bound_drawrate) & (data_new['loss_rate']<=lower_bound_lossrate),'score']+=10\n",
    "\n",
    "data_new.loc[(data_new['cleansheet_rate']>= upper_bound_cleansheetrate) & (data_new['winning_rate']>=upper_bound_winningrate),'score']+=10\n",
    "\n",
    "data_new.loc[data_new['Winners']==True,'score']+=15\n",
    "\n",
    "data_new.loc[data_new['Runners-up']==True,'score']+=10\n",
    "\n",
    "data_new.loc[data_new['lastplayed_pl']== 2023,'score']+=15\n"
   ]
  },
  {
   "cell_type": "code",
   "execution_count": 70,
   "id": "636a2b90",
   "metadata": {},
   "outputs": [],
   "source": [
    "# sort the data based on scores to plot \n",
    "data_new_sorted=data_new.sort_values(by='score',ascending=False)"
   ]
  },
  {
   "cell_type": "code",
   "execution_count": 71,
   "id": "c11693f2",
   "metadata": {},
   "outputs": [
    {
     "data": {
      "image/png": "[encoded data removed]",
      "text/plain": [
       "<Figure size 2500x1000 with 1 Axes>"
      ]
     },
     "metadata": {},
     "output_type": "display_data"
    }
   ],
   "source": [
    "# bar graph of teams based on their scores\n",
    "\n",
    "plt.figure(figsize=(25,10))\n",
    "\n",
    "plt.bar(data_new_sorted['Club'],data_new_sorted['score'])\n",
    "\n",
    "plt.title('Performance score of football clubs', fontsize=18)\n",
    "plt.ylabel('Scores', fontsize=16)\n",
    "plt.legend(['Scores'], fontsize=14)\n",
    "\n",
    "plt.xticks(rotation=90, fontsize=14)\n",
    "plt.yticks(fontsize=14)\n",
    "\n",
    "plt.ylim(0, 100)\n",
    "\n",
    "plt.show()"
   ]
  },
  {
   "cell_type": "markdown",
   "id": "0a6c306d",
   "metadata": {},
   "source": [
    "#### Blackburn Rovers and Leicester city are the top performing clubs based on the scoring.\n",
    "\n",
    "Lets look at the performance of these 2 clubs"
   ]
  },
  {
   "cell_type": "code",
   "execution_count": 77,
   "id": "c72cce9d",
   "metadata": {},
   "outputs": [
    {
     "data": {
      "text/html": [
       "<div>\n",
       "<style scoped>\n",
       "    .dataframe tbody tr th:only-of-type {\n",
       "        vertical-align: middle;\n",
       "    }\n",
       "\n",
       "    .dataframe tbody tr th {\n",
       "        vertical-align: top;\n",
       "    }\n",
       "\n",
       "    .dataframe thead th {\n",
       "        text-align: right;\n",
       "    }\n",
       "</style>\n",
       "<table border=\"1\" class=\"dataframe\">\n",
       "  <thead>\n",
       "    <tr style=\"text-align: right;\">\n",
       "      <th></th>\n",
       "      <th>Club</th>\n",
       "      <th>Matches Played</th>\n",
       "      <th>Win</th>\n",
       "      <th>Loss</th>\n",
       "      <th>Drawn</th>\n",
       "      <th>Goals</th>\n",
       "      <th>Clean Sheets</th>\n",
       "      <th>TeamLaunch</th>\n",
       "      <th>Winners</th>\n",
       "      <th>Runners-up</th>\n",
       "      <th>lastplayed_pl</th>\n",
       "      <th>winning_rate</th>\n",
       "      <th>loss_rate</th>\n",
       "      <th>draw_rate</th>\n",
       "      <th>cleansheet_rate</th>\n",
       "      <th>Average_goals</th>\n",
       "      <th>score</th>\n",
       "    </tr>\n",
       "  </thead>\n",
       "  <tbody>\n",
       "    <tr>\n",
       "      <th>1</th>\n",
       "      <td>Blackburn Rovers</td>\n",
       "      <td>696</td>\n",
       "      <td>262</td>\n",
       "      <td>250</td>\n",
       "      <td>184</td>\n",
       "      <td>927</td>\n",
       "      <td>210</td>\n",
       "      <td>1875</td>\n",
       "      <td>1.0</td>\n",
       "      <td>1</td>\n",
       "      <td>2012</td>\n",
       "      <td>37.643678</td>\n",
       "      <td>35.919540</td>\n",
       "      <td>26.436782</td>\n",
       "      <td>30.172414</td>\n",
       "      <td>1.0</td>\n",
       "      <td>75.0</td>\n",
       "    </tr>\n",
       "    <tr>\n",
       "      <th>13</th>\n",
       "      <td>Leicester City</td>\n",
       "      <td>642</td>\n",
       "      <td>216</td>\n",
       "      <td>262</td>\n",
       "      <td>164</td>\n",
       "      <td>860</td>\n",
       "      <td>167</td>\n",
       "      <td>1884</td>\n",
       "      <td>1.0</td>\n",
       "      <td>0</td>\n",
       "      <td>2023</td>\n",
       "      <td>33.644860</td>\n",
       "      <td>40.809969</td>\n",
       "      <td>25.545171</td>\n",
       "      <td>26.012461</td>\n",
       "      <td>1.0</td>\n",
       "      <td>70.0</td>\n",
       "    </tr>\n",
       "  </tbody>\n",
       "</table>\n",
       "</div>"
      ],
      "text/plain": [
       "                Club  Matches Played  Win  Loss  Drawn  Goals  Clean Sheets  \\\n",
       "1   Blackburn Rovers             696  262   250    184    927           210   \n",
       "13    Leicester City             642  216   262    164    860           167   \n",
       "\n",
       "   TeamLaunch  Winners  Runners-up  lastplayed_pl  winning_rate  loss_rate  \\\n",
       "1        1875      1.0           1           2012     37.643678  35.919540   \n",
       "13       1884      1.0           0           2023     33.644860  40.809969   \n",
       "\n",
       "    draw_rate  cleansheet_rate  Average_goals  score  \n",
       "1   26.436782        30.172414            1.0   75.0  \n",
       "13  25.545171        26.012461            1.0   70.0  "
      ]
     },
     "execution_count": 77,
     "metadata": {},
     "output_type": "execute_result"
    }
   ],
   "source": [
    "data_new[(data_new['Club']=='Blackburn Rovers') | (data_new['Club']=='Leicester City')]"
   ]
  },
  {
   "cell_type": "markdown",
   "id": "83ef4b01",
   "metadata": {},
   "source": [
    "By observing the data of 2 clubs, Blackburn Rovers club was last active in the year 2012. Though its performance was high, this club cannot be recommended.\n",
    "\n",
    "Lets check the better scoring clubs that are active in the last 3 years."
   ]
  },
  {
   "cell_type": "code",
   "execution_count": 79,
   "id": "2bc751cb",
   "metadata": {},
   "outputs": [],
   "source": [
    "# updating the dataset with last played years after 2020\n",
    "data_sort=data_new[(data_new['lastplayed_pl']==2023) | (data_new['lastplayed_pl']==2022) |\n",
    "                   (data_new['lastplayed_pl']==2021)].sort_values(by='score',ascending=False)"
   ]
  },
  {
   "cell_type": "code",
   "execution_count": 81,
   "id": "a3d9c8a1",
   "metadata": {},
   "outputs": [
    {
     "data": {
      "image/png": "[encoded data removed]",
      "text/plain": [
       "<Figure size 2000x1000 with 1 Axes>"
      ]
     },
     "metadata": {},
     "output_type": "display_data"
    }
   ],
   "source": [
    "#Bar graph of teams that are recently active with their scores \n",
    "plt.figure(figsize=(20,10))\n",
    "plt.bar(data_sort['Club'],data_sort['score'])\n",
    "\n",
    "plt.title('Performance of clubs', fontsize=18)\n",
    "plt.ylabel('score',fontsize=16)\n",
    "\n",
    "plt.xticks(rotation=90,fontsize=12)\n",
    "plt.yticks(fontsize=14)\n",
    "\n",
    "plt.ylim(0,100)\n",
    "\n",
    "plt.show()"
   ]
  },
  {
   "cell_type": "markdown",
   "id": "03a76d0b",
   "metadata": {},
   "source": [
    "### Recommendation\n",
    "* Therefore, the recommendation is to consider investing in Leicester City, as it emerges as the most promising option according to the customized scoring framework. \n",
    "* According to the research, Blackburn Rovers were relegated to the Championship league (i.e., league below Premier League) in 2012 and further to League One (i.e., league below Championship league) in 2017. They were promoted back to the Championship in 2018 but have since finished in the middle of the table in recent years. Given their inconsistent performance and lack of presence in the Premier League since 2012, it would be inappropriate to recommend this club for investment.\n",
    "* On the other hand, Leicester City, the 2016 Premier League champions, has consistently finished in the top 10 in recent years. They placed 5th in both the 2019-2020 and 2020-2021 seasons and finished 8th in 2021-2022. Leicester City has the potential to achieve even greater success in the near future. Therefore, it would be reasonable to recommend the club Leicester City.\n"
   ]
  },
  {
   "cell_type": "markdown",
   "id": "23c2725b",
   "metadata": {},
   "source": [
    "##### Supportive Resources:\n",
    "\n",
    "*Source-1 Blackburn Rovers History: https://www.transfermarkt.co.in/blackburn-rovers/platzierungen/verein/164*\n",
    "\n",
    "*Source-2 Leicester City History: https://www.transfermarkt.co.in/leicester-city/platzierungen/verein/1003*\n",
    "* These sources provide additional details about the performance histories of Blackburn Rovers and Leicester City, aiding in the decision-making process for potential investment.\n",
    "\n"
   ]
  },
  {
   "cell_type": "markdown",
   "id": "b129bee2",
   "metadata": {},
   "source": [
    "### Investing in the club Leiscester City is recommended based on this analysis"
   ]
  }
 ],
 "metadata": {
  "kernelspec": {
   "display_name": "Python 3 (ipykernel)",
   "language": "python",
   "name": "python3"
  },
  "language_info": {
   "codemirror_mode": {
    "name": "ipython",
    "version": 3
   },
   "file_extension": ".py",
   "mimetype": "text/x-python",
   "name": "python",
   "nbconvert_exporter": "python",
   "pygments_lexer": "ipython3",
   "version": "3.11.5"
  }
 },
 "nbformat": 4,
 "nbformat_minor": 5
}
